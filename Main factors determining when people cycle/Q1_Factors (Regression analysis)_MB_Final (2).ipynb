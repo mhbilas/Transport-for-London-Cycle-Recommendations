{
 "cells": [
  {
   "cell_type": "markdown",
   "id": "79da1c0c",
   "metadata": {},
   "source": [
    "# Q1. What are the main factors determining when people cycle?"
   ]
  },
  {
   "cell_type": "markdown",
   "id": "c80b2a8d",
   "metadata": {},
   "source": [
    "# Investigation into regression analysis"
   ]
  },
  {
   "cell_type": "markdown",
   "id": "4e78fe5e",
   "metadata": {},
   "source": [
    "## Prepare workstation and import files"
   ]
  },
  {
   "cell_type": "code",
   "execution_count": 1,
   "id": "847c656f",
   "metadata": {},
   "outputs": [],
   "source": [
    "# Import libraries and packages\n",
    "import numpy as np\n",
    "import pandas as pd\n",
    "import matplotlib.pyplot as plt\n",
    "import seaborn as sns\n",
    "import statsmodels.api as sm\n",
    "import sklearn\n",
    "\n",
    "from sklearn import datasets\n",
    "from sklearn import linear_model\n",
    "from statsmodels.stats.outliers_influence import variance_inflation_factor\n",
    "from sklearn.model_selection import train_test_split\n",
    "from sklearn import metrics\n",
    "from sklearn.linear_model import LinearRegression\n",
    "from statsmodels.formula.api import ols"
   ]
  },
  {
   "cell_type": "markdown",
   "id": "29b82665",
   "metadata": {},
   "source": [
    "Rationale for libraries and packages:\n",
    "- Numpy: used for statistical calculations\n",
    "- Pandas: used for data manipulation and analysis\n",
    "- Statsmodels: used to get OLS to fit a regression line and to calculate variance inflation factor\n",
    "- Sklearn: used to calculate simple and multiple linear regression\n",
    "- Matplotlib: used for plotting functions\n",
    "- Seaborn: used for plotting functions"
   ]
  },
  {
   "cell_type": "code",
   "execution_count": 2,
   "id": "0cb634c2",
   "metadata": {},
   "outputs": [],
   "source": [
    "# Turn off warnings\n",
    "import warnings\n",
    "warnings.filterwarnings(\"ignore\")"
   ]
  },
  {
   "cell_type": "markdown",
   "id": "610e7156",
   "metadata": {},
   "source": [
    "Rationale: Warning usually occur when there are obsolete programming elements. Warnings have been turned off to make\n",
    "the code cleaner. However, this will still allow errors to appear."
   ]
  },
  {
   "cell_type": "code",
   "execution_count": 3,
   "id": "1b328a72",
   "metadata": {},
   "outputs": [],
   "source": [
    "# Import data files\n",
    "central_london = pd.read_csv(\"Central London.csv\")\n",
    "inner_london = pd.read_csv(\"Inner London.csv\")\n",
    "outer_london = pd.read_csv(\"Outer London.csv\")"
   ]
  },
  {
   "cell_type": "markdown",
   "id": "01608989",
   "metadata": {},
   "source": [
    "## Explore and clean raw data"
   ]
  },
  {
   "cell_type": "markdown",
   "id": "4c9eed0e",
   "metadata": {},
   "source": [
    "### Central London"
   ]
  },
  {
   "cell_type": "code",
   "execution_count": 4,
   "id": "eded731d",
   "metadata": {},
   "outputs": [
    {
     "name": "stdout",
     "output_type": "stream",
     "text": [
      "(1048366, 17)\n"
     ]
    }
   ],
   "source": [
    "# Print shape\n",
    "print(central_london.shape)"
   ]
  },
  {
   "cell_type": "code",
   "execution_count": 5,
   "id": "f503879b",
   "metadata": {},
   "outputs": [
    {
     "name": "stdout",
     "output_type": "stream",
     "text": [
      "<class 'pandas.core.frame.DataFrame'>\n",
      "RangeIndex: 1048366 entries, 0 to 1048365\n",
      "Data columns (total 17 columns):\n",
      " #   Column                          Non-Null Count   Dtype  \n",
      "---  ------                          --------------   -----  \n",
      " 0   Survey wave (calendar quarter)  758163 non-null  object \n",
      " 1   Equivalent financial quarter    758163 non-null  object \n",
      " 2   Site ID                         758163 non-null  object \n",
      " 3   Location                        758163 non-null  object \n",
      " 4   Survey date                     748007 non-null  object \n",
      " 5   Weather                         746329 non-null  object \n",
      " 6   Time                            758163 non-null  object \n",
      " 7   Period                          758163 non-null  object \n",
      " 8   Direction                       758163 non-null  object \n",
      " 9   Start hour                      758163 non-null  float64\n",
      " 10  Start minute                    758163 non-null  float64\n",
      " 11  Number of private cycles        758099 non-null  float64\n",
      " 12  Number of cycle hire bikes      758099 non-null  float64\n",
      " 13  Total cycles                    758163 non-null  float64\n",
      " 14  Unnamed: 14                     0 non-null       float64\n",
      " 15  Unnamed: 15                     0 non-null       float64\n",
      " 16  Unnamed: 16                     0 non-null       float64\n",
      "dtypes: float64(8), object(9)\n",
      "memory usage: 136.0+ MB\n",
      "None\n"
     ]
    }
   ],
   "source": [
    "# Examine columns\n",
    "print(central_london.info())"
   ]
  },
  {
   "cell_type": "code",
   "execution_count": 6,
   "id": "94ff17ec",
   "metadata": {},
   "outputs": [
    {
     "name": "stdout",
     "output_type": "stream",
     "text": [
      "Survey wave (calendar quarter)     290203\n",
      "Equivalent financial quarter       290203\n",
      "Site ID                            290203\n",
      "Location                           290203\n",
      "Survey date                        300359\n",
      "Weather                            302037\n",
      "Time                               290203\n",
      "Period                             290203\n",
      "Direction                          290203\n",
      "Start hour                         290203\n",
      "Start minute                       290203\n",
      "Number of private cycles           290267\n",
      "Number of cycle hire bikes         290267\n",
      "Total cycles                       290203\n",
      "Unnamed: 14                       1048366\n",
      "Unnamed: 15                       1048366\n",
      "Unnamed: 16                       1048366\n",
      "dtype: int64\n"
     ]
    }
   ],
   "source": [
    "# Check for missing values\n",
    "print(central_london.isnull().sum())"
   ]
  },
  {
   "cell_type": "code",
   "execution_count": 7,
   "id": "7431359b",
   "metadata": {},
   "outputs": [
    {
     "name": "stdout",
     "output_type": "stream",
     "text": [
      "  Survey wave (calendar quarter) Equivalent financial quarter   Site ID  \\\n",
      "0        2014 Q1 (January-March)                   2013-14 Q4  CENCY001   \n",
      "1        2014 Q1 (January-March)                   2013-14 Q4  CENCY001   \n",
      "2        2014 Q1 (January-March)                   2013-14 Q4  CENCY001   \n",
      "3        2014 Q1 (January-March)                   2013-14 Q4  CENCY001   \n",
      "4        2014 Q1 (January-March)                   2013-14 Q4  CENCY001   \n",
      "\n",
      "                             Location    Survey date Weather         Time  \\\n",
      "0  Millbank (south of Thorney Street)  ven, 24/01/14     Dry  0600 - 0615   \n",
      "1  Millbank (south of Thorney Street)  ven, 24/01/14     Dry  0615 - 0630   \n",
      "2  Millbank (south of Thorney Street)  ven, 24/01/14     Dry  0630 - 0645   \n",
      "3  Millbank (south of Thorney Street)  ven, 24/01/14     Dry  0645 - 0700   \n",
      "4  Millbank (south of Thorney Street)  ven, 24/01/14     Dry  0700 - 0715   \n",
      "\n",
      "                        Period   Direction  Start hour  Start minute  \\\n",
      "0  Early Morning (06:00-07:00)  Northbound         6.0           0.0   \n",
      "1  Early Morning (06:00-07:00)  Northbound         6.0          15.0   \n",
      "2  Early Morning (06:00-07:00)  Northbound         6.0          30.0   \n",
      "3  Early Morning (06:00-07:00)  Northbound         6.0          45.0   \n",
      "4        AM peak (07:00-10:00)  Northbound         7.0           0.0   \n",
      "\n",
      "   Number of private cycles  Number of cycle hire bikes  Total cycles  \n",
      "0                       0.0                         0.0           0.0  \n",
      "1                      15.0                         0.0          15.0  \n",
      "2                      35.0                         0.0          35.0  \n",
      "3                      59.0                         2.0          61.0  \n",
      "4                      73.0                         0.0          73.0  \n"
     ]
    }
   ],
   "source": [
    "# Drop unnamed columns from data frame\n",
    "central_london_clean = central_london.drop(['Unnamed: 14', 'Unnamed: 15', 'Unnamed: 16'], axis=1)\n",
    "print(central_london_clean.head())"
   ]
  },
  {
   "cell_type": "code",
   "execution_count": 8,
   "id": "fdca2af5",
   "metadata": {},
   "outputs": [
    {
     "data": {
      "text/plain": [
       "2020 Q3 (July-September)       26880\n",
       "2020 Q1 (January-March)        26880\n",
       "2019 Q2 (April-June)           26880\n",
       "2019 Q1 (January-March)        26880\n",
       "2018 Q4 (October-December)     26880\n",
       "2018 Q3 (July-September)       26880\n",
       "2018 Q2 (April-June)           26880\n",
       "2017 Q4 (October-December)     26752\n",
       "2017 Q3 (July-September)       26752\n",
       "2019 Q4 (October-December)     26752\n",
       "2019 Q3 (July-September)       26752\n",
       "2021 Q4 (October-December)     26624\n",
       "2021 Q3 (July-September)       26584\n",
       "2017 Q1 (January-March)        25728\n",
       "2015 Q4 (October-December)     25728\n",
       "2014 Q3 (July-September)       25728\n",
       "2014 Q4 (October-December)     25728\n",
       "2015 Q1 (January-March)        25728\n",
       "2015 Q2 (April-June)           25728\n",
       "2017 Q2 (April-June)           25728\n",
       "2015 Q3 (July-September)       25728\n",
       "2016 Q2 (April-June)           25728\n",
       "2018 Q1 (January-March)        25728\n",
       "2014 Q2 (April-June)           25728\n",
       "2016 Q4 (October-December)     25728\n",
       "2016 Q1 (January-March)        25600\n",
       "2016 Q3 (July-September)       25600\n",
       "2014 Q1 (January-March)        25408\n",
       "2021 Q2 (April-June)           12281\n",
       "2021 Q2 (April-June)           12034\n",
       "2021 Q3 (July-September)         128\n",
       "Name: Survey wave (calendar quarter), dtype: int64"
      ]
     },
     "execution_count": 8,
     "metadata": {},
     "output_type": "execute_result"
    }
   ],
   "source": [
    "# Print values for Survey wave (calendar quarter)\n",
    "central_london_clean['Survey wave (calendar quarter)'].value_counts()"
   ]
  },
  {
   "cell_type": "code",
   "execution_count": 9,
   "id": "991fce28",
   "metadata": {},
   "outputs": [],
   "source": [
    "# Create Month column\n",
    "central_london_clean['Month'] = central_london_clean['Survey date'].str.split('/').str[1]"
   ]
  },
  {
   "cell_type": "code",
   "execution_count": 10,
   "id": "b3aefbd3",
   "metadata": {},
   "outputs": [
    {
     "name": "stdout",
     "output_type": "stream",
     "text": [
      "(1048366,)\n",
      "11    77101\n",
      "09    76192\n",
      "01    71934\n",
      "08    69512\n",
      "06    67257\n",
      "07    60838\n",
      "03    58606\n",
      "05    56326\n",
      "12    55862\n",
      "02    51936\n",
      "04    51132\n",
      "10    51055\n",
      "Name: Month, dtype: int64\n",
      "300615\n"
     ]
    }
   ],
   "source": [
    "# Check values of new Month column\n",
    "print(central_london_clean['Month'].shape)\n",
    "print(central_london_clean['Month'].value_counts())\n",
    "print(central_london_clean['Month'].isnull().sum())"
   ]
  },
  {
   "cell_type": "code",
   "execution_count": 11,
   "id": "8839277e",
   "metadata": {},
   "outputs": [
    {
     "name": "stdout",
     "output_type": "stream",
     "text": [
      "654784     \n",
      "654785     \n",
      "654786     \n",
      "654787     \n",
      "654788     \n",
      "         ..\n",
      "664251     \n",
      "664252     \n",
      "664253     \n",
      "664254     \n",
      "664255     \n",
      "Name: Survey date, Length: 256, dtype: object\n"
     ]
    }
   ],
   "source": [
    "# Examine what Survey date looks like when Month is missing but Survey date is not\n",
    "sub_df = central_london_clean[central_london_clean['Month'].isnull() & ~ central_london_clean['Survey date'].isnull()]\n",
    "print(sub_df['Survey date'])"
   ]
  },
  {
   "cell_type": "markdown",
   "id": "5266d5f4",
   "metadata": {},
   "source": [
    "Observations: There are 256 survey date variables that are formatted incorrectly, thus resulting in 256 missing Month values. Given the large size of the data set, these values will be ignored rather than fixing them."
   ]
  },
  {
   "cell_type": "code",
   "execution_count": 12,
   "id": "af3fcfbd",
   "metadata": {},
   "outputs": [],
   "source": [
    "# Create Year column\n",
    "central_london_clean['Year'] = central_london_clean['Survey date'].str.split('/').str[2]"
   ]
  },
  {
   "cell_type": "code",
   "execution_count": 13,
   "id": "9f365f10",
   "metadata": {},
   "outputs": [
    {
     "name": "stdout",
     "output_type": "stream",
     "text": [
      "(1048366,)\n",
      "19    106880\n",
      "18    105300\n",
      "14    102540\n",
      "17    102444\n",
      "16    101632\n",
      "15    100916\n",
      "21     77651\n",
      "20     50388\n",
      "Name: Year, dtype: int64\n",
      "300615\n"
     ]
    }
   ],
   "source": [
    "# Check values of new Year column\n",
    "print(central_london_clean['Year'].shape)\n",
    "print(central_london_clean['Year'].value_counts())\n",
    "print(central_london_clean['Year'].isnull().sum())"
   ]
  },
  {
   "cell_type": "code",
   "execution_count": 14,
   "id": "b692ae84",
   "metadata": {},
   "outputs": [],
   "source": [
    "# Create quarter column\n",
    "central_london_clean['Quarter'] = central_london_clean['Survey wave (calendar quarter)'].str.split(\" \").str[1]"
   ]
  },
  {
   "cell_type": "code",
   "execution_count": 15,
   "id": "a2250dd2",
   "metadata": {},
   "outputs": [
    {
     "name": "stdout",
     "output_type": "stream",
     "text": [
      "(1048366,)\n",
      "Q3    211032\n",
      "Q4    184192\n",
      "Q1    181952\n",
      "Q2    180987\n",
      "Name: Quarter, dtype: int64\n",
      "290203\n"
     ]
    }
   ],
   "source": [
    "# Check values of new Quarter column\n",
    "print(central_london_clean['Quarter'].shape)\n",
    "print(central_london_clean['Quarter'].value_counts())\n",
    "print(central_london_clean['Quarter'].isnull().sum())"
   ]
  },
  {
   "cell_type": "code",
   "execution_count": 16,
   "id": "67ed3f21",
   "metadata": {},
   "outputs": [
    {
     "data": {
      "text/plain": [
       "Survey wave (calendar quarter)     object\n",
       "Equivalent financial quarter       object\n",
       "Site ID                            object\n",
       "Location                           object\n",
       "Survey date                        object\n",
       "Weather                            object\n",
       "Time                               object\n",
       "Period                             object\n",
       "Direction                          object\n",
       "Start hour                        float64\n",
       "Start minute                      float64\n",
       "Number of private cycles          float64\n",
       "Number of cycle hire bikes        float64\n",
       "Total cycles                      float64\n",
       "Month                              object\n",
       "Year                               object\n",
       "Quarter                            object\n",
       "dtype: object"
      ]
     },
     "execution_count": 16,
     "metadata": {},
     "output_type": "execute_result"
    }
   ],
   "source": [
    "# Check dtype of new variables\n",
    "central_london_clean.dtypes"
   ]
  },
  {
   "cell_type": "code",
   "execution_count": 17,
   "id": "5fab1b80",
   "metadata": {},
   "outputs": [
    {
     "name": "stdout",
     "output_type": "stream",
     "text": [
      "Survey wave (calendar quarter)     object\n",
      "Equivalent financial quarter       object\n",
      "Site ID                            object\n",
      "Location                           object\n",
      "Survey date                        object\n",
      "Weather                            object\n",
      "Time                               object\n",
      "Period                             object\n",
      "Direction                          object\n",
      "Start hour                        float64\n",
      "Start minute                      float64\n",
      "Number of private cycles          float64\n",
      "Number of cycle hire bikes        float64\n",
      "Total cycles                      float64\n",
      "Month                             float64\n",
      "Year                              float64\n",
      "Quarter                            object\n",
      "dtype: object\n"
     ]
    }
   ],
   "source": [
    "# Change Month and Year to float\n",
    "central_london_clean['Month'] = central_london_clean['Month'].astype(float)\n",
    "central_london_clean['Year'] = central_london_clean['Year'].astype(float)\n",
    "\n",
    "print(central_london_clean.dtypes)"
   ]
  },
  {
   "cell_type": "code",
   "execution_count": 18,
   "id": "ce67d916",
   "metadata": {},
   "outputs": [],
   "source": [
    "# Create Region column\n",
    "central_london_clean['Region'] = \"Central London\""
   ]
  },
  {
   "cell_type": "code",
   "execution_count": 19,
   "id": "510f250b",
   "metadata": {},
   "outputs": [
    {
     "data": {
      "text/plain": [
       "Central London    1048366\n",
       "Name: Region, dtype: int64"
      ]
     },
     "execution_count": 19,
     "metadata": {},
     "output_type": "execute_result"
    }
   ],
   "source": [
    "# Check values of new Region column\n",
    "central_london_clean['Region'].value_counts()"
   ]
  },
  {
   "cell_type": "markdown",
   "id": "a9f85ed8",
   "metadata": {},
   "source": [
    "**Outer London**"
   ]
  },
  {
   "cell_type": "code",
   "execution_count": 20,
   "id": "4717bd2e",
   "metadata": {},
   "outputs": [
    {
     "name": "stdout",
     "output_type": "stream",
     "text": [
      "(375660, 14)\n"
     ]
    }
   ],
   "source": [
    "# Print shape\n",
    "print(outer_london.shape)"
   ]
  },
  {
   "cell_type": "code",
   "execution_count": 21,
   "id": "297e169a",
   "metadata": {},
   "outputs": [
    {
     "name": "stdout",
     "output_type": "stream",
     "text": [
      "   Survey wave (year)   Site ID          Location    Survey date Weather  \\\n",
      "0                2015  OUTCY001  High Road Leyton  ven, 26/06/15     Dry   \n",
      "1                2015  OUTCY001  High Road Leyton  ven, 26/06/15     Dry   \n",
      "2                2015  OUTCY001  High Road Leyton  ven, 26/06/15     Dry   \n",
      "3                2015  OUTCY001  High Road Leyton  ven, 26/06/15     Dry   \n",
      "4                2015  OUTCY001  High Road Leyton  ven, 26/06/15     Dry   \n",
      "\n",
      "          Time                       Period   Direction  Start hour  \\\n",
      "0  0600 - 0615  Early Morning (06:00-07:00)  Northbound           6   \n",
      "1  0615 - 0630  Early Morning (06:00-07:00)  Northbound           6   \n",
      "2  0630 - 0645  Early Morning (06:00-07:00)  Northbound           6   \n",
      "3  0645 - 0700  Early Morning (06:00-07:00)  Northbound           6   \n",
      "4  0700 - 0715        AM peak (07:00-10:00)  Northbound           7   \n",
      "\n",
      "   Start minute  Number of male cycles  Number of female cycles  \\\n",
      "0             0                      2                        1   \n",
      "1            15                      3                        0   \n",
      "2            30                      2                        0   \n",
      "3            45                      4                        0   \n",
      "4             0                      4                        1   \n",
      "\n",
      "   Number of unknown cycles  Total cycles  \n",
      "0                         0             3  \n",
      "1                         0             3  \n",
      "2                         0             2  \n",
      "3                         0             4  \n",
      "4                         0             5  \n"
     ]
    }
   ],
   "source": [
    "# Examine first few rows of data\n",
    "print(outer_london.head())"
   ]
  },
  {
   "cell_type": "code",
   "execution_count": 22,
   "id": "5f9e9c46",
   "metadata": {},
   "outputs": [
    {
     "name": "stdout",
     "output_type": "stream",
     "text": [
      "<class 'pandas.core.frame.DataFrame'>\n",
      "RangeIndex: 375660 entries, 0 to 375659\n",
      "Data columns (total 14 columns):\n",
      " #   Column                    Non-Null Count   Dtype \n",
      "---  ------                    --------------   ----- \n",
      " 0   Survey wave (year)        375660 non-null  int64 \n",
      " 1   Site ID                   375660 non-null  object\n",
      " 2   Location                  375660 non-null  object\n",
      " 3   Survey date               374492 non-null  object\n",
      " 4   Weather                   374692 non-null  object\n",
      " 5   Time                      375660 non-null  object\n",
      " 6   Period                    375660 non-null  object\n",
      " 7   Direction                 375660 non-null  object\n",
      " 8   Start hour                375660 non-null  int64 \n",
      " 9   Start minute              375660 non-null  int64 \n",
      " 10  Number of male cycles     375660 non-null  int64 \n",
      " 11  Number of female cycles   375660 non-null  int64 \n",
      " 12  Number of unknown cycles  375660 non-null  int64 \n",
      " 13  Total cycles              375660 non-null  int64 \n",
      "dtypes: int64(7), object(7)\n",
      "memory usage: 40.1+ MB\n",
      "None\n"
     ]
    }
   ],
   "source": [
    "# Examine columns\n",
    "print(outer_london.info())"
   ]
  },
  {
   "cell_type": "code",
   "execution_count": 23,
   "id": "00e17964",
   "metadata": {},
   "outputs": [
    {
     "name": "stdout",
     "output_type": "stream",
     "text": [
      "Survey wave (year)             0\n",
      "Site ID                        0\n",
      "Location                       0\n",
      "Survey date                 1168\n",
      "Weather                      968\n",
      "Time                           0\n",
      "Period                         0\n",
      "Direction                      0\n",
      "Start hour                     0\n",
      "Start minute                   0\n",
      "Number of male cycles          0\n",
      "Number of female cycles        0\n",
      "Number of unknown cycles       0\n",
      "Total cycles                   0\n",
      "dtype: int64\n"
     ]
    }
   ],
   "source": [
    "# Check for missing values\n",
    "print(outer_london.isnull().sum())"
   ]
  },
  {
   "cell_type": "code",
   "execution_count": 24,
   "id": "f07e37cb",
   "metadata": {},
   "outputs": [],
   "source": [
    "# Create Month column\n",
    "outer_london['Month'] = outer_london['Survey date'].str.split('/').str[1]"
   ]
  },
  {
   "cell_type": "code",
   "execution_count": 25,
   "id": "e498fa11",
   "metadata": {},
   "outputs": [
    {
     "name": "stdout",
     "output_type": "stream",
     "text": [
      "(375660,)\n",
      "06    125316\n",
      "05    116664\n",
      "04     54884\n",
      "07     46768\n",
      "10     16992\n",
      "09     13580\n",
      "08       160\n",
      "11       128\n",
      "Name: Month, dtype: int64\n",
      "1168\n"
     ]
    }
   ],
   "source": [
    "# Check values of new Month column\n",
    "print(outer_london['Month'].shape)\n",
    "print(outer_london['Month'].value_counts())\n",
    "print(outer_london['Month'].isnull().sum())"
   ]
  },
  {
   "cell_type": "code",
   "execution_count": 26,
   "id": "1bb45470",
   "metadata": {},
   "outputs": [],
   "source": [
    "# Create Year column\n",
    "outer_london['Year'] = outer_london['Survey date'].str.split('/').str[2]"
   ]
  },
  {
   "cell_type": "code",
   "execution_count": 27,
   "id": "f15d2d39",
   "metadata": {},
   "outputs": [
    {
     "name": "stdout",
     "output_type": "stream",
     "text": [
      "(375660,)\n",
      "18    57728\n",
      "19    57584\n",
      "21    57472\n",
      "15    57344\n",
      "16    57344\n",
      "17    57344\n",
      "20    29676\n",
      "Name: Year, dtype: int64\n",
      "1168\n"
     ]
    }
   ],
   "source": [
    "# Check values of new Year column\n",
    "print(outer_london['Year'].shape)\n",
    "print(outer_london['Year'].value_counts())\n",
    "print(outer_london['Year'].isnull().sum())"
   ]
  },
  {
   "cell_type": "code",
   "execution_count": 28,
   "id": "d04c7c0f",
   "metadata": {},
   "outputs": [
    {
     "data": {
      "text/plain": [
       "Survey wave (year)           int64\n",
       "Site ID                     object\n",
       "Location                    object\n",
       "Survey date                 object\n",
       "Weather                     object\n",
       "Time                        object\n",
       "Period                      object\n",
       "Direction                   object\n",
       "Start hour                   int64\n",
       "Start minute                 int64\n",
       "Number of male cycles        int64\n",
       "Number of female cycles      int64\n",
       "Number of unknown cycles     int64\n",
       "Total cycles                 int64\n",
       "Month                       object\n",
       "Year                        object\n",
       "dtype: object"
      ]
     },
     "execution_count": 28,
     "metadata": {},
     "output_type": "execute_result"
    }
   ],
   "source": [
    "# Check dtypes\n",
    "outer_london.dtypes"
   ]
  },
  {
   "cell_type": "code",
   "execution_count": 29,
   "id": "c254f626",
   "metadata": {},
   "outputs": [
    {
     "name": "stdout",
     "output_type": "stream",
     "text": [
      "Survey wave (year)            int64\n",
      "Site ID                      object\n",
      "Location                     object\n",
      "Survey date                  object\n",
      "Weather                      object\n",
      "Time                         object\n",
      "Period                       object\n",
      "Direction                    object\n",
      "Start hour                    int64\n",
      "Start minute                  int64\n",
      "Number of male cycles         int64\n",
      "Number of female cycles       int64\n",
      "Number of unknown cycles      int64\n",
      "Total cycles                  int64\n",
      "Month                       float64\n",
      "Year                        float64\n",
      "dtype: object\n"
     ]
    }
   ],
   "source": [
    "# Change Month and Year to float\n",
    "outer_london['Month'] = outer_london['Month'].astype(float)\n",
    "outer_london['Year'] = outer_london['Year'].astype(float)\n",
    "print(outer_london.dtypes)"
   ]
  },
  {
   "cell_type": "code",
   "execution_count": 30,
   "id": "7d9a89fc",
   "metadata": {},
   "outputs": [
    {
     "name": "stdout",
     "output_type": "stream",
     "text": [
      "Q2    296864\n",
      "Q3     60508\n",
      "Q4     17120\n",
      "0       1168\n",
      "Name: Quarter, dtype: int64\n",
      "   Survey wave (year)   Site ID          Location    Survey date Weather  \\\n",
      "0                2015  OUTCY001  High Road Leyton  ven, 26/06/15     Dry   \n",
      "1                2015  OUTCY001  High Road Leyton  ven, 26/06/15     Dry   \n",
      "2                2015  OUTCY001  High Road Leyton  ven, 26/06/15     Dry   \n",
      "3                2015  OUTCY001  High Road Leyton  ven, 26/06/15     Dry   \n",
      "4                2015  OUTCY001  High Road Leyton  ven, 26/06/15     Dry   \n",
      "\n",
      "          Time                       Period   Direction  Start hour  \\\n",
      "0  0600 - 0615  Early Morning (06:00-07:00)  Northbound           6   \n",
      "1  0615 - 0630  Early Morning (06:00-07:00)  Northbound           6   \n",
      "2  0630 - 0645  Early Morning (06:00-07:00)  Northbound           6   \n",
      "3  0645 - 0700  Early Morning (06:00-07:00)  Northbound           6   \n",
      "4  0700 - 0715        AM peak (07:00-10:00)  Northbound           7   \n",
      "\n",
      "   Start minute  Number of male cycles  Number of female cycles  \\\n",
      "0             0                      2                        1   \n",
      "1            15                      3                        0   \n",
      "2            30                      2                        0   \n",
      "3            45                      4                        0   \n",
      "4             0                      4                        1   \n",
      "\n",
      "   Number of unknown cycles  Total cycles  Month  Year Quarter  \n",
      "0                         0             3    6.0  15.0      Q2  \n",
      "1                         0             3    6.0  15.0      Q2  \n",
      "2                         0             2    6.0  15.0      Q2  \n",
      "3                         0             4    6.0  15.0      Q2  \n",
      "4                         0             5    6.0  15.0      Q2  \n",
      "        Survey wave (year)   Site ID                      Location  \\\n",
      "375655                2021  OUTCY451  Thames Path (Lower Ham Road)   \n",
      "375656                2021  OUTCY451  Thames Path (Lower Ham Road)   \n",
      "375657                2021  OUTCY451  Thames Path (Lower Ham Road)   \n",
      "375658                2021  OUTCY451  Thames Path (Lower Ham Road)   \n",
      "375659                2021  OUTCY451  Thames Path (Lower Ham Road)   \n",
      "\n",
      "          Survey date Weather         Time                 Period   Direction  \\\n",
      "375655  ven, 18/06/21     Wet  2045 - 2100  Evening (19:00-22:00)  Southbound   \n",
      "375656  ven, 18/06/21     Wet  2100 - 2115  Evening (19:00-22:00)  Southbound   \n",
      "375657  ven, 18/06/21     Wet  2115 - 2130  Evening (19:00-22:00)  Southbound   \n",
      "375658  ven, 18/06/21     Wet  2130 - 2145  Evening (19:00-22:00)  Southbound   \n",
      "375659  ven, 18/06/21     Wet  2145 - 2200  Evening (19:00-22:00)  Southbound   \n",
      "\n",
      "        Start hour  Start minute  Number of male cycles  \\\n",
      "375655          20            45                      1   \n",
      "375656          21             0                      2   \n",
      "375657          21            15                      0   \n",
      "375658          21            30                      0   \n",
      "375659          21            45                      1   \n",
      "\n",
      "        Number of female cycles  Number of unknown cycles  Total cycles  \\\n",
      "375655                        0                         0             1   \n",
      "375656                        0                         0             2   \n",
      "375657                        0                         0             0   \n",
      "375658                        0                         0             0   \n",
      "375659                        0                         0             1   \n",
      "\n",
      "        Month  Year Quarter  \n",
      "375655    6.0  21.0      Q2  \n",
      "375656    6.0  21.0      Q2  \n",
      "375657    6.0  21.0      Q2  \n",
      "375658    6.0  21.0      Q2  \n",
      "375659    6.0  21.0      Q2  \n"
     ]
    }
   ],
   "source": [
    "# Create a Quarter column\n",
    "\n",
    "# Create list of conditions\n",
    "conditions = [\n",
    "    (outer_london['Month'] > 0) & (outer_london['Month'] <= 3),\n",
    "    (outer_london['Month'] > 3) & (outer_london['Month'] <= 6),\n",
    "    (outer_london['Month'] > 6) & (outer_london['Month'] <= 9),\n",
    "    (outer_london['Month'] > 9) & (outer_london['Month'] <= 12)\n",
    "]\n",
    "\n",
    "# Create a list of values to assign for each condition\n",
    "values = ['Q1', 'Q2', 'Q3', 'Q4']\n",
    "\n",
    "# Create new 'Quarter' column and use np.select to assign values to it\n",
    "outer_london['Quarter'] = np.select(conditions, values)\n",
    "\n",
    "# Display updated DataFrame\n",
    "print(outer_london.Quarter.value_counts())\n",
    "print(outer_london.head())\n",
    "print(outer_london.tail())"
   ]
  },
  {
   "cell_type": "code",
   "execution_count": 31,
   "id": "fe459778",
   "metadata": {},
   "outputs": [],
   "source": [
    "# Create Region column\n",
    "outer_london['Region'] = \"Outer London\""
   ]
  },
  {
   "cell_type": "code",
   "execution_count": 32,
   "id": "77792549",
   "metadata": {},
   "outputs": [
    {
     "data": {
      "text/plain": [
       "Outer London    375660\n",
       "Name: Region, dtype: int64"
      ]
     },
     "execution_count": 32,
     "metadata": {},
     "output_type": "execute_result"
    }
   ],
   "source": [
    "# Check Region column\n",
    "outer_london['Region'].value_counts()"
   ]
  },
  {
   "cell_type": "markdown",
   "id": "f44a6c83",
   "metadata": {},
   "source": [
    "### Inner London"
   ]
  },
  {
   "cell_type": "code",
   "execution_count": 33,
   "id": "54e2158c",
   "metadata": {},
   "outputs": [
    {
     "name": "stdout",
     "output_type": "stream",
     "text": [
      "(615168, 13)\n"
     ]
    }
   ],
   "source": [
    "# Print shape\n",
    "print(inner_london.shape)"
   ]
  },
  {
   "cell_type": "code",
   "execution_count": 34,
   "id": "139a1017",
   "metadata": {},
   "outputs": [
    {
     "name": "stdout",
     "output_type": "stream",
     "text": [
      "   Survey wave (year)   Site ID    Location    Survey date Weather  \\\n",
      "0              2015.0  INNCY001  Grove Road  mer, 20/05/15     Dry   \n",
      "1              2015.0  INNCY001  Grove Road  mer, 20/05/15     Dry   \n",
      "2              2015.0  INNCY001  Grove Road  mer, 20/05/15     Dry   \n",
      "3              2015.0  INNCY001  Grove Road  mer, 20/05/15     Dry   \n",
      "4              2015.0  INNCY001  Grove Road  mer, 20/05/15     Dry   \n",
      "\n",
      "          Time                       Period   Direction  Start hour  \\\n",
      "0  0600 - 0615  Early Morning (06:00-07:00)  Northbound         6.0   \n",
      "1  0615 - 0630  Early Morning (06:00-07:00)  Northbound         6.0   \n",
      "2  0630 - 0645  Early Morning (06:00-07:00)  Northbound         6.0   \n",
      "3  0645 - 0700  Early Morning (06:00-07:00)  Northbound         6.0   \n",
      "4  0700 - 0715        AM peak (07:00-10:00)  Northbound         7.0   \n",
      "\n",
      "   Start minute  Number of private cycles  Number of cycle hire bikes  \\\n",
      "0           0.0                       1.0                         0.0   \n",
      "1          15.0                       2.0                         0.0   \n",
      "2          30.0                       2.0                         0.0   \n",
      "3          45.0                       4.0                         0.0   \n",
      "4           0.0                       4.0                         0.0   \n",
      "\n",
      "   Total cycles  \n",
      "0           1.0  \n",
      "1           2.0  \n",
      "2           2.0  \n",
      "3           4.0  \n",
      "4           4.0  \n"
     ]
    }
   ],
   "source": [
    "# Examine first few rows of data\n",
    "print(inner_london.head())"
   ]
  },
  {
   "cell_type": "code",
   "execution_count": 35,
   "id": "b82d761d",
   "metadata": {},
   "outputs": [
    {
     "name": "stdout",
     "output_type": "stream",
     "text": [
      "<class 'pandas.core.frame.DataFrame'>\n",
      "RangeIndex: 615168 entries, 0 to 615167\n",
      "Data columns (total 13 columns):\n",
      " #   Column                      Non-Null Count   Dtype  \n",
      "---  ------                      --------------   -----  \n",
      " 0   Survey wave (year)          523776 non-null  float64\n",
      " 1   Site ID                     523776 non-null  object \n",
      " 2   Location                    523776 non-null  object \n",
      " 3   Survey date                 521024 non-null  object \n",
      " 4   Weather                     519102 non-null  object \n",
      " 5   Time                        523770 non-null  object \n",
      " 6   Period                      523770 non-null  object \n",
      " 7   Direction                   523776 non-null  object \n",
      " 8   Start hour                  523770 non-null  float64\n",
      " 9   Start minute                523770 non-null  float64\n",
      " 10  Number of private cycles    523776 non-null  float64\n",
      " 11  Number of cycle hire bikes  523776 non-null  float64\n",
      " 12  Total cycles                523776 non-null  float64\n",
      "dtypes: float64(6), object(7)\n",
      "memory usage: 61.0+ MB\n",
      "None\n"
     ]
    }
   ],
   "source": [
    "# Examine columns\n",
    "print(inner_london.info())"
   ]
  },
  {
   "cell_type": "code",
   "execution_count": 36,
   "id": "3b8a4d03",
   "metadata": {},
   "outputs": [
    {
     "name": "stdout",
     "output_type": "stream",
     "text": [
      "Survey wave (year)            91392\n",
      "Site ID                       91392\n",
      "Location                      91392\n",
      "Survey date                   94144\n",
      "Weather                       96066\n",
      "Time                          91398\n",
      "Period                        91398\n",
      "Direction                     91392\n",
      "Start hour                    91398\n",
      "Start minute                  91398\n",
      "Number of private cycles      91392\n",
      "Number of cycle hire bikes    91392\n",
      "Total cycles                  91392\n",
      "dtype: int64\n"
     ]
    }
   ],
   "source": [
    "# Check for missing values\n",
    "print(inner_london.isnull().sum())"
   ]
  },
  {
   "cell_type": "code",
   "execution_count": 37,
   "id": "e28f7edb",
   "metadata": {},
   "outputs": [],
   "source": [
    "# Create Month column\n",
    "inner_london['Month'] = inner_london['Survey date'].str.split('/').str[1]"
   ]
  },
  {
   "cell_type": "code",
   "execution_count": 38,
   "id": "d670d44c",
   "metadata": {},
   "outputs": [
    {
     "name": "stdout",
     "output_type": "stream",
     "text": [
      "(615168,)\n",
      "06    149524\n",
      "05    149140\n",
      "07     89840\n",
      "04     81278\n",
      "09     26338\n",
      "10     23902\n",
      "11       704\n",
      "08       208\n",
      "03        90\n",
      "Name: Month, dtype: int64\n",
      "94144\n"
     ]
    }
   ],
   "source": [
    "# Check values of new Month column\n",
    "print(inner_london['Month'].shape)\n",
    "print(inner_london['Month'].value_counts())\n",
    "print(inner_london['Month'].isnull().sum())"
   ]
  },
  {
   "cell_type": "code",
   "execution_count": 39,
   "id": "20cfcfa0",
   "metadata": {},
   "outputs": [],
   "source": [
    "# Create Year column\n",
    "inner_london['Year'] = inner_london['Survey date'].str.split('/').str[2]"
   ]
  },
  {
   "cell_type": "code",
   "execution_count": 40,
   "id": "d997ba95",
   "metadata": {},
   "outputs": [
    {
     "name": "stdout",
     "output_type": "stream",
     "text": [
      "(615168,)\n",
      "21    91392\n",
      "15    76032\n",
      "16    76032\n",
      "18    76032\n",
      "19    75968\n",
      "17    75264\n",
      "20    50304\n",
      "Name: Year, dtype: int64\n",
      "94144\n"
     ]
    }
   ],
   "source": [
    "# Check values of new Year column\n",
    "print(inner_london['Year'].shape)\n",
    "print(inner_london['Year'].value_counts())\n",
    "print(inner_london['Year'].isnull().sum())"
   ]
  },
  {
   "cell_type": "code",
   "execution_count": 41,
   "id": "5dd8accb",
   "metadata": {},
   "outputs": [
    {
     "data": {
      "text/plain": [
       "Survey wave (year)            float64\n",
       "Site ID                        object\n",
       "Location                       object\n",
       "Survey date                    object\n",
       "Weather                        object\n",
       "Time                           object\n",
       "Period                         object\n",
       "Direction                      object\n",
       "Start hour                    float64\n",
       "Start minute                  float64\n",
       "Number of private cycles      float64\n",
       "Number of cycle hire bikes    float64\n",
       "Total cycles                  float64\n",
       "Month                          object\n",
       "Year                           object\n",
       "dtype: object"
      ]
     },
     "execution_count": 41,
     "metadata": {},
     "output_type": "execute_result"
    }
   ],
   "source": [
    "# Check dtypes\n",
    "inner_london.dtypes"
   ]
  },
  {
   "cell_type": "code",
   "execution_count": 42,
   "id": "41f7ef97",
   "metadata": {},
   "outputs": [
    {
     "name": "stdout",
     "output_type": "stream",
     "text": [
      "Survey wave (year)            float64\n",
      "Site ID                        object\n",
      "Location                       object\n",
      "Survey date                    object\n",
      "Weather                        object\n",
      "Time                           object\n",
      "Period                         object\n",
      "Direction                      object\n",
      "Start hour                    float64\n",
      "Start minute                  float64\n",
      "Number of private cycles      float64\n",
      "Number of cycle hire bikes    float64\n",
      "Total cycles                  float64\n",
      "Month                         float64\n",
      "Year                          float64\n",
      "dtype: object\n"
     ]
    }
   ],
   "source": [
    "# Change Month and Year to float\n",
    "inner_london['Month'] = inner_london['Month'].astype(float)\n",
    "inner_london['Year'] = inner_london['Year'].astype(float)\n",
    "print(inner_london.dtypes)"
   ]
  },
  {
   "cell_type": "code",
   "execution_count": 43,
   "id": "b035925e",
   "metadata": {},
   "outputs": [
    {
     "name": "stdout",
     "output_type": "stream",
     "text": [
      "Q2    379942\n",
      "Q3    116386\n",
      "0      94144\n",
      "Q4     24606\n",
      "Q1        90\n",
      "Name: Quarter, dtype: int64\n",
      "   Survey wave (year)   Site ID    Location    Survey date Weather  \\\n",
      "0              2015.0  INNCY001  Grove Road  mer, 20/05/15     Dry   \n",
      "1              2015.0  INNCY001  Grove Road  mer, 20/05/15     Dry   \n",
      "2              2015.0  INNCY001  Grove Road  mer, 20/05/15     Dry   \n",
      "3              2015.0  INNCY001  Grove Road  mer, 20/05/15     Dry   \n",
      "4              2015.0  INNCY001  Grove Road  mer, 20/05/15     Dry   \n",
      "\n",
      "          Time                       Period   Direction  Start hour  \\\n",
      "0  0600 - 0615  Early Morning (06:00-07:00)  Northbound         6.0   \n",
      "1  0615 - 0630  Early Morning (06:00-07:00)  Northbound         6.0   \n",
      "2  0630 - 0645  Early Morning (06:00-07:00)  Northbound         6.0   \n",
      "3  0645 - 0700  Early Morning (06:00-07:00)  Northbound         6.0   \n",
      "4  0700 - 0715        AM peak (07:00-10:00)  Northbound         7.0   \n",
      "\n",
      "   Start minute  Number of private cycles  Number of cycle hire bikes  \\\n",
      "0           0.0                       1.0                         0.0   \n",
      "1          15.0                       2.0                         0.0   \n",
      "2          30.0                       2.0                         0.0   \n",
      "3          45.0                       4.0                         0.0   \n",
      "4           0.0                       4.0                         0.0   \n",
      "\n",
      "   Total cycles  Month  Year Quarter  \n",
      "0           1.0    5.0  15.0      Q2  \n",
      "1           2.0    5.0  15.0      Q2  \n",
      "2           2.0    5.0  15.0      Q2  \n",
      "3           4.0    5.0  15.0      Q2  \n",
      "4           4.0    5.0  15.0      Q2  \n",
      "        Survey wave (year) Site ID Location Survey date Weather Time Period  \\\n",
      "615163                 NaN     NaN      NaN         NaN     NaN  NaN    NaN   \n",
      "615164                 NaN     NaN      NaN         NaN     NaN  NaN    NaN   \n",
      "615165                 NaN     NaN      NaN         NaN     NaN  NaN    NaN   \n",
      "615166                 NaN     NaN      NaN         NaN     NaN  NaN    NaN   \n",
      "615167                 NaN     NaN      NaN         NaN     NaN  NaN    NaN   \n",
      "\n",
      "       Direction  Start hour  Start minute  Number of private cycles  \\\n",
      "615163       NaN         NaN           NaN                       NaN   \n",
      "615164       NaN         NaN           NaN                       NaN   \n",
      "615165       NaN         NaN           NaN                       NaN   \n",
      "615166       NaN         NaN           NaN                       NaN   \n",
      "615167       NaN         NaN           NaN                       NaN   \n",
      "\n",
      "        Number of cycle hire bikes  Total cycles  Month  Year Quarter  \n",
      "615163                         NaN           NaN    NaN   NaN       0  \n",
      "615164                         NaN           NaN    NaN   NaN       0  \n",
      "615165                         NaN           NaN    NaN   NaN       0  \n",
      "615166                         NaN           NaN    NaN   NaN       0  \n",
      "615167                         NaN           NaN    NaN   NaN       0  \n"
     ]
    }
   ],
   "source": [
    "# Create a Quarter column\n",
    "\n",
    "# Create list of conditions\n",
    "conditions = [\n",
    "    (inner_london['Month'] > 0) & (inner_london['Month'] <= 3),\n",
    "    (inner_london['Month'] > 3) & (inner_london['Month'] <= 6),\n",
    "    (inner_london['Month'] > 6) & (inner_london['Month'] <= 9),\n",
    "    (inner_london['Month'] > 9) & (inner_london['Month'] <= 12)\n",
    "]\n",
    "\n",
    "# Create a list of values to assign for each condition\n",
    "values = ['Q1', 'Q2', 'Q3', 'Q4']\n",
    "\n",
    "# Create new 'Seasons' column and use np.select to assign values to it\n",
    "inner_london['Quarter'] = np.select(conditions, values)\n",
    "\n",
    "# Display updated DataFrame\n",
    "print(inner_london.Quarter.value_counts())\n",
    "print(inner_london.head())\n",
    "print(inner_london.tail())"
   ]
  },
  {
   "cell_type": "code",
   "execution_count": 44,
   "id": "d148c47e",
   "metadata": {},
   "outputs": [],
   "source": [
    "# Create Region column\n",
    "inner_london['Region'] = \"Inner London\""
   ]
  },
  {
   "cell_type": "code",
   "execution_count": 45,
   "id": "1c47624e",
   "metadata": {},
   "outputs": [
    {
     "data": {
      "text/plain": [
       "Inner London    615168\n",
       "Name: Region, dtype: int64"
      ]
     },
     "execution_count": 45,
     "metadata": {},
     "output_type": "execute_result"
    }
   ],
   "source": [
    "# Check Region column\n",
    "inner_london['Region'].value_counts()"
   ]
  },
  {
   "cell_type": "markdown",
   "id": "4358440c",
   "metadata": {},
   "source": [
    "## Linear relationship analysis"
   ]
  },
  {
   "cell_type": "markdown",
   "id": "7bca6a40",
   "metadata": {},
   "source": [
    "### Central London"
   ]
  },
  {
   "cell_type": "markdown",
   "id": "728c0d1d",
   "metadata": {},
   "source": [
    "**Private cycles**"
   ]
  },
  {
   "cell_type": "code",
   "execution_count": 46,
   "id": "58d27104",
   "metadata": {},
   "outputs": [],
   "source": [
    "# Define the dependent variable\n",
    "y= central_london_clean['Total cycles']"
   ]
  },
  {
   "cell_type": "code",
   "execution_count": 47,
   "id": "fab931ae",
   "metadata": {},
   "outputs": [],
   "source": [
    "# Define the indepedent variable\n",
    "x= central_london_clean['Number of private cycles']"
   ]
  },
  {
   "cell_type": "code",
   "execution_count": 48,
   "id": "dd4d974b",
   "metadata": {},
   "outputs": [],
   "source": [
    "# Create formula and pass through OLS methods\n",
    "f = 'y ~ x'\n",
    "test = ols(f, data= central_london_clean).fit()"
   ]
  },
  {
   "cell_type": "code",
   "execution_count": 49,
   "id": "212f70ac",
   "metadata": {},
   "outputs": [
    {
     "data": {
      "text/html": [
       "<table class=\"simpletable\">\n",
       "<caption>OLS Regression Results</caption>\n",
       "<tr>\n",
       "  <th>Dep. Variable:</th>            <td>y</td>        <th>  R-squared:         </th>  <td>   0.993</td>  \n",
       "</tr>\n",
       "<tr>\n",
       "  <th>Model:</th>                   <td>OLS</td>       <th>  Adj. R-squared:    </th>  <td>   0.993</td>  \n",
       "</tr>\n",
       "<tr>\n",
       "  <th>Method:</th>             <td>Least Squares</td>  <th>  F-statistic:       </th>  <td>1.097e+08</td> \n",
       "</tr>\n",
       "<tr>\n",
       "  <th>Date:</th>             <td>Tue, 16 Aug 2022</td> <th>  Prob (F-statistic):</th>   <td>  0.00</td>   \n",
       "</tr>\n",
       "<tr>\n",
       "  <th>Time:</th>                 <td>15:08:38</td>     <th>  Log-Likelihood:    </th> <td>-1.7316e+06</td>\n",
       "</tr>\n",
       "<tr>\n",
       "  <th>No. Observations:</th>      <td>758099</td>      <th>  AIC:               </th>  <td>3.463e+06</td> \n",
       "</tr>\n",
       "<tr>\n",
       "  <th>Df Residuals:</th>          <td>758097</td>      <th>  BIC:               </th>  <td>3.463e+06</td> \n",
       "</tr>\n",
       "<tr>\n",
       "  <th>Df Model:</th>              <td>     1</td>      <th>                     </th>      <td> </td>     \n",
       "</tr>\n",
       "<tr>\n",
       "  <th>Covariance Type:</th>      <td>nonrobust</td>    <th>                     </th>      <td> </td>     \n",
       "</tr>\n",
       "</table>\n",
       "<table class=\"simpletable\">\n",
       "<tr>\n",
       "      <td></td>         <th>coef</th>     <th>std err</th>      <th>t</th>      <th>P>|t|</th>  <th>[0.025</th>    <th>0.975]</th>  \n",
       "</tr>\n",
       "<tr>\n",
       "  <th>Intercept</th> <td>    0.5193</td> <td>    0.003</td> <td>  165.748</td> <td> 0.000</td> <td>    0.513</td> <td>    0.525</td>\n",
       "</tr>\n",
       "<tr>\n",
       "  <th>x</th>         <td>    1.0884</td> <td>    0.000</td> <td> 1.05e+04</td> <td> 0.000</td> <td>    1.088</td> <td>    1.089</td>\n",
       "</tr>\n",
       "</table>\n",
       "<table class=\"simpletable\">\n",
       "<tr>\n",
       "  <th>Omnibus:</th>       <td>619814.141</td> <th>  Durbin-Watson:     </th>   <td>   0.846</td>  \n",
       "</tr>\n",
       "<tr>\n",
       "  <th>Prob(Omnibus):</th>   <td> 0.000</td>   <th>  Jarque-Bera (JB):  </th> <td>76860772.388</td>\n",
       "</tr>\n",
       "<tr>\n",
       "  <th>Skew:</th>            <td> 3.279</td>   <th>  Prob(JB):          </th>   <td>    0.00</td>  \n",
       "</tr>\n",
       "<tr>\n",
       "  <th>Kurtosis:</th>        <td>51.890</td>   <th>  Cond. No.          </th>   <td>    34.6</td>  \n",
       "</tr>\n",
       "</table><br/><br/>Notes:<br/>[1] Standard Errors assume that the covariance matrix of the errors is correctly specified."
      ],
      "text/plain": [
       "<class 'statsmodels.iolib.summary.Summary'>\n",
       "\"\"\"\n",
       "                            OLS Regression Results                            \n",
       "==============================================================================\n",
       "Dep. Variable:                      y   R-squared:                       0.993\n",
       "Model:                            OLS   Adj. R-squared:                  0.993\n",
       "Method:                 Least Squares   F-statistic:                 1.097e+08\n",
       "Date:                Tue, 16 Aug 2022   Prob (F-statistic):               0.00\n",
       "Time:                        15:08:38   Log-Likelihood:            -1.7316e+06\n",
       "No. Observations:              758099   AIC:                         3.463e+06\n",
       "Df Residuals:                  758097   BIC:                         3.463e+06\n",
       "Df Model:                           1                                         \n",
       "Covariance Type:            nonrobust                                         \n",
       "==============================================================================\n",
       "                 coef    std err          t      P>|t|      [0.025      0.975]\n",
       "------------------------------------------------------------------------------\n",
       "Intercept      0.5193      0.003    165.748      0.000       0.513       0.525\n",
       "x              1.0884      0.000   1.05e+04      0.000       1.088       1.089\n",
       "==============================================================================\n",
       "Omnibus:                   619814.141   Durbin-Watson:                   0.846\n",
       "Prob(Omnibus):                  0.000   Jarque-Bera (JB):         76860772.388\n",
       "Skew:                           3.279   Prob(JB):                         0.00\n",
       "Kurtosis:                      51.890   Cond. No.                         34.6\n",
       "==============================================================================\n",
       "\n",
       "Notes:\n",
       "[1] Standard Errors assume that the covariance matrix of the errors is correctly specified.\n",
       "\"\"\""
      ]
     },
     "execution_count": 49,
     "metadata": {},
     "output_type": "execute_result"
    }
   ],
   "source": [
    "# Print the regression table\n",
    "test.summary()"
   ]
  },
  {
   "cell_type": "markdown",
   "id": "77602d96",
   "metadata": {},
   "source": [
    "**Cycle hires**"
   ]
  },
  {
   "cell_type": "code",
   "execution_count": 50,
   "id": "560b877e",
   "metadata": {},
   "outputs": [],
   "source": [
    "# Define the dependent variable\n",
    "y= central_london_clean['Total cycles']"
   ]
  },
  {
   "cell_type": "code",
   "execution_count": 51,
   "id": "3a2a8219",
   "metadata": {},
   "outputs": [],
   "source": [
    "# Define the indepedent variable\n",
    "x= central_london_clean['Number of cycle hire bikes']"
   ]
  },
  {
   "cell_type": "code",
   "execution_count": 52,
   "id": "1c7a73cf",
   "metadata": {},
   "outputs": [],
   "source": [
    "# Create formula and pass through OLS methods\n",
    "f = 'y ~ x'\n",
    "test = ols(f, data= central_london_clean).fit()"
   ]
  },
  {
   "cell_type": "code",
   "execution_count": 53,
   "id": "41204f7b",
   "metadata": {},
   "outputs": [
    {
     "data": {
      "text/html": [
       "<table class=\"simpletable\">\n",
       "<caption>OLS Regression Results</caption>\n",
       "<tr>\n",
       "  <th>Dep. Variable:</th>            <td>y</td>        <th>  R-squared:         </th>  <td>   0.571</td>  \n",
       "</tr>\n",
       "<tr>\n",
       "  <th>Model:</th>                   <td>OLS</td>       <th>  Adj. R-squared:    </th>  <td>   0.571</td>  \n",
       "</tr>\n",
       "<tr>\n",
       "  <th>Method:</th>             <td>Least Squares</td>  <th>  F-statistic:       </th>  <td>1.010e+06</td> \n",
       "</tr>\n",
       "<tr>\n",
       "  <th>Date:</th>             <td>Tue, 16 Aug 2022</td> <th>  Prob (F-statistic):</th>   <td>  0.00</td>   \n",
       "</tr>\n",
       "<tr>\n",
       "  <th>Time:</th>                 <td>15:08:38</td>     <th>  Log-Likelihood:    </th> <td>-3.2990e+06</td>\n",
       "</tr>\n",
       "<tr>\n",
       "  <th>No. Observations:</th>      <td>758099</td>      <th>  AIC:               </th>  <td>6.598e+06</td> \n",
       "</tr>\n",
       "<tr>\n",
       "  <th>Df Residuals:</th>          <td>758097</td>      <th>  BIC:               </th>  <td>6.598e+06</td> \n",
       "</tr>\n",
       "<tr>\n",
       "  <th>Df Model:</th>              <td>     1</td>      <th>                     </th>      <td> </td>     \n",
       "</tr>\n",
       "<tr>\n",
       "  <th>Covariance Type:</th>      <td>nonrobust</td>    <th>                     </th>      <td> </td>     \n",
       "</tr>\n",
       "</table>\n",
       "<table class=\"simpletable\">\n",
       "<tr>\n",
       "      <td></td>         <th>coef</th>     <th>std err</th>      <th>t</th>      <th>P>|t|</th>  <th>[0.025</th>    <th>0.975]</th>  \n",
       "</tr>\n",
       "<tr>\n",
       "  <th>Intercept</th> <td>    4.7138</td> <td>    0.025</td> <td>  191.429</td> <td> 0.000</td> <td>    4.666</td> <td>    4.762</td>\n",
       "</tr>\n",
       "<tr>\n",
       "  <th>x</th>         <td>    6.5247</td> <td>    0.006</td> <td> 1004.868</td> <td> 0.000</td> <td>    6.512</td> <td>    6.537</td>\n",
       "</tr>\n",
       "</table>\n",
       "<table class=\"simpletable\">\n",
       "<tr>\n",
       "  <th>Omnibus:</th>       <td>668319.727</td> <th>  Durbin-Watson:     </th>   <td>   0.522</td>  \n",
       "</tr>\n",
       "<tr>\n",
       "  <th>Prob(Omnibus):</th>   <td> 0.000</td>   <th>  Jarque-Bera (JB):  </th> <td>81094434.476</td>\n",
       "</tr>\n",
       "<tr>\n",
       "  <th>Skew:</th>            <td> 3.741</td>   <th>  Prob(JB):          </th>   <td>    0.00</td>  \n",
       "</tr>\n",
       "<tr>\n",
       "  <th>Kurtosis:</th>        <td>53.113</td>   <th>  Cond. No.          </th>   <td>    4.40</td>  \n",
       "</tr>\n",
       "</table><br/><br/>Notes:<br/>[1] Standard Errors assume that the covariance matrix of the errors is correctly specified."
      ],
      "text/plain": [
       "<class 'statsmodels.iolib.summary.Summary'>\n",
       "\"\"\"\n",
       "                            OLS Regression Results                            \n",
       "==============================================================================\n",
       "Dep. Variable:                      y   R-squared:                       0.571\n",
       "Model:                            OLS   Adj. R-squared:                  0.571\n",
       "Method:                 Least Squares   F-statistic:                 1.010e+06\n",
       "Date:                Tue, 16 Aug 2022   Prob (F-statistic):               0.00\n",
       "Time:                        15:08:38   Log-Likelihood:            -3.2990e+06\n",
       "No. Observations:              758099   AIC:                         6.598e+06\n",
       "Df Residuals:                  758097   BIC:                         6.598e+06\n",
       "Df Model:                           1                                         \n",
       "Covariance Type:            nonrobust                                         \n",
       "==============================================================================\n",
       "                 coef    std err          t      P>|t|      [0.025      0.975]\n",
       "------------------------------------------------------------------------------\n",
       "Intercept      4.7138      0.025    191.429      0.000       4.666       4.762\n",
       "x              6.5247      0.006   1004.868      0.000       6.512       6.537\n",
       "==============================================================================\n",
       "Omnibus:                   668319.727   Durbin-Watson:                   0.522\n",
       "Prob(Omnibus):                  0.000   Jarque-Bera (JB):         81094434.476\n",
       "Skew:                           3.741   Prob(JB):                         0.00\n",
       "Kurtosis:                      53.113   Cond. No.                         4.40\n",
       "==============================================================================\n",
       "\n",
       "Notes:\n",
       "[1] Standard Errors assume that the covariance matrix of the errors is correctly specified.\n",
       "\"\"\""
      ]
     },
     "execution_count": 53,
     "metadata": {},
     "output_type": "execute_result"
    }
   ],
   "source": [
    "# Print the regression table\n",
    "test.summary()"
   ]
  },
  {
   "cell_type": "markdown",
   "id": "7f84319e",
   "metadata": {},
   "source": [
    "**Time of Year**"
   ]
  },
  {
   "cell_type": "code",
   "execution_count": 54,
   "id": "8ac0bafe",
   "metadata": {},
   "outputs": [],
   "source": [
    "# Define the dependent variable\n",
    "y= central_london_clean['Total cycles']"
   ]
  },
  {
   "cell_type": "code",
   "execution_count": 55,
   "id": "d468d6f8",
   "metadata": {},
   "outputs": [],
   "source": [
    "# Define the indepedent variable\n",
    "x= central_london_clean['Quarter']"
   ]
  },
  {
   "cell_type": "code",
   "execution_count": 56,
   "id": "3c4de482",
   "metadata": {},
   "outputs": [],
   "source": [
    "# Create formula and pass through OLS methods\n",
    "f = 'y ~ x'\n",
    "test = ols(f, data= central_london_clean).fit()"
   ]
  },
  {
   "cell_type": "code",
   "execution_count": 57,
   "id": "809377ce",
   "metadata": {},
   "outputs": [
    {
     "data": {
      "text/html": [
       "<table class=\"simpletable\">\n",
       "<caption>OLS Regression Results</caption>\n",
       "<tr>\n",
       "  <th>Dep. Variable:</th>            <td>y</td>        <th>  R-squared:         </th>  <td>   0.002</td>  \n",
       "</tr>\n",
       "<tr>\n",
       "  <th>Model:</th>                   <td>OLS</td>       <th>  Adj. R-squared:    </th>  <td>   0.002</td>  \n",
       "</tr>\n",
       "<tr>\n",
       "  <th>Method:</th>             <td>Least Squares</td>  <th>  F-statistic:       </th>  <td>   485.0</td>  \n",
       "</tr>\n",
       "<tr>\n",
       "  <th>Date:</th>             <td>Tue, 16 Aug 2022</td> <th>  Prob (F-statistic):</th>  <td>7.26e-315</td> \n",
       "</tr>\n",
       "<tr>\n",
       "  <th>Time:</th>                 <td>15:08:41</td>     <th>  Log-Likelihood:    </th> <td>-3.6195e+06</td>\n",
       "</tr>\n",
       "<tr>\n",
       "  <th>No. Observations:</th>      <td>758163</td>      <th>  AIC:               </th>  <td>7.239e+06</td> \n",
       "</tr>\n",
       "<tr>\n",
       "  <th>Df Residuals:</th>          <td>758159</td>      <th>  BIC:               </th>  <td>7.239e+06</td> \n",
       "</tr>\n",
       "<tr>\n",
       "  <th>Df Model:</th>              <td>     3</td>      <th>                     </th>      <td> </td>     \n",
       "</tr>\n",
       "<tr>\n",
       "  <th>Covariance Type:</th>      <td>nonrobust</td>    <th>                     </th>      <td> </td>     \n",
       "</tr>\n",
       "</table>\n",
       "<table class=\"simpletable\">\n",
       "<tr>\n",
       "      <td></td>         <th>coef</th>     <th>std err</th>      <th>t</th>      <th>P>|t|</th>  <th>[0.025</th>    <th>0.975]</th>  \n",
       "</tr>\n",
       "<tr>\n",
       "  <th>Intercept</th> <td>   14.9158</td> <td>    0.067</td> <td>  222.093</td> <td> 0.000</td> <td>   14.784</td> <td>   15.047</td>\n",
       "</tr>\n",
       "<tr>\n",
       "  <th>x[T.Q2]</th>   <td>    2.8017</td> <td>    0.095</td> <td>   29.459</td> <td> 0.000</td> <td>    2.615</td> <td>    2.988</td>\n",
       "</tr>\n",
       "<tr>\n",
       "  <th>x[T.Q3]</th>   <td>    2.9909</td> <td>    0.092</td> <td>   32.635</td> <td> 0.000</td> <td>    2.811</td> <td>    3.171</td>\n",
       "</tr>\n",
       "<tr>\n",
       "  <th>x[T.Q4]</th>   <td>    0.9711</td> <td>    0.095</td> <td>   10.255</td> <td> 0.000</td> <td>    0.785</td> <td>    1.157</td>\n",
       "</tr>\n",
       "</table>\n",
       "<table class=\"simpletable\">\n",
       "<tr>\n",
       "  <th>Omnibus:</th>       <td>773540.085</td> <th>  Durbin-Watson:     </th>   <td>   0.119</td>  \n",
       "</tr>\n",
       "<tr>\n",
       "  <th>Prob(Omnibus):</th>   <td> 0.000</td>   <th>  Jarque-Bera (JB):  </th> <td>59932113.042</td>\n",
       "</tr>\n",
       "<tr>\n",
       "  <th>Skew:</th>            <td> 5.036</td>   <th>  Prob(JB):          </th>   <td>    0.00</td>  \n",
       "</tr>\n",
       "<tr>\n",
       "  <th>Kurtosis:</th>        <td>45.376</td>   <th>  Cond. No.          </th>   <td>    4.88</td>  \n",
       "</tr>\n",
       "</table><br/><br/>Notes:<br/>[1] Standard Errors assume that the covariance matrix of the errors is correctly specified."
      ],
      "text/plain": [
       "<class 'statsmodels.iolib.summary.Summary'>\n",
       "\"\"\"\n",
       "                            OLS Regression Results                            \n",
       "==============================================================================\n",
       "Dep. Variable:                      y   R-squared:                       0.002\n",
       "Model:                            OLS   Adj. R-squared:                  0.002\n",
       "Method:                 Least Squares   F-statistic:                     485.0\n",
       "Date:                Tue, 16 Aug 2022   Prob (F-statistic):          7.26e-315\n",
       "Time:                        15:08:41   Log-Likelihood:            -3.6195e+06\n",
       "No. Observations:              758163   AIC:                         7.239e+06\n",
       "Df Residuals:                  758159   BIC:                         7.239e+06\n",
       "Df Model:                           3                                         \n",
       "Covariance Type:            nonrobust                                         \n",
       "==============================================================================\n",
       "                 coef    std err          t      P>|t|      [0.025      0.975]\n",
       "------------------------------------------------------------------------------\n",
       "Intercept     14.9158      0.067    222.093      0.000      14.784      15.047\n",
       "x[T.Q2]        2.8017      0.095     29.459      0.000       2.615       2.988\n",
       "x[T.Q3]        2.9909      0.092     32.635      0.000       2.811       3.171\n",
       "x[T.Q4]        0.9711      0.095     10.255      0.000       0.785       1.157\n",
       "==============================================================================\n",
       "Omnibus:                   773540.085   Durbin-Watson:                   0.119\n",
       "Prob(Omnibus):                  0.000   Jarque-Bera (JB):         59932113.042\n",
       "Skew:                           5.036   Prob(JB):                         0.00\n",
       "Kurtosis:                      45.376   Cond. No.                         4.88\n",
       "==============================================================================\n",
       "\n",
       "Notes:\n",
       "[1] Standard Errors assume that the covariance matrix of the errors is correctly specified.\n",
       "\"\"\""
      ]
     },
     "execution_count": 57,
     "metadata": {},
     "output_type": "execute_result"
    }
   ],
   "source": [
    "# Print the regression table\n",
    "test.summary()"
   ]
  },
  {
   "cell_type": "markdown",
   "id": "678d25b5",
   "metadata": {},
   "source": [
    "**Time of day**"
   ]
  },
  {
   "cell_type": "code",
   "execution_count": 58,
   "id": "ebb43351",
   "metadata": {},
   "outputs": [],
   "source": [
    "# Define the dependent variable\n",
    "y= central_london_clean['Total cycles']"
   ]
  },
  {
   "cell_type": "code",
   "execution_count": 59,
   "id": "e4acf061",
   "metadata": {},
   "outputs": [],
   "source": [
    "# Define the indepedent variable\n",
    "x= central_london_clean['Period']"
   ]
  },
  {
   "cell_type": "code",
   "execution_count": 60,
   "id": "66703437",
   "metadata": {},
   "outputs": [],
   "source": [
    "# Create formula and pass through OLS methods\n",
    "f = 'y ~ x'\n",
    "test = ols(f, data= central_london_clean).fit()"
   ]
  },
  {
   "cell_type": "code",
   "execution_count": 61,
   "id": "21d0ad5c",
   "metadata": {},
   "outputs": [
    {
     "data": {
      "text/html": [
       "<table class=\"simpletable\">\n",
       "<caption>OLS Regression Results</caption>\n",
       "<tr>\n",
       "  <th>Dep. Variable:</th>            <td>y</td>        <th>  R-squared:         </th>  <td>   0.116</td>  \n",
       "</tr>\n",
       "<tr>\n",
       "  <th>Model:</th>                   <td>OLS</td>       <th>  Adj. R-squared:    </th>  <td>   0.116</td>  \n",
       "</tr>\n",
       "<tr>\n",
       "  <th>Method:</th>             <td>Least Squares</td>  <th>  F-statistic:       </th>  <td>2.478e+04</td> \n",
       "</tr>\n",
       "<tr>\n",
       "  <th>Date:</th>             <td>Tue, 16 Aug 2022</td> <th>  Prob (F-statistic):</th>   <td>  0.00</td>   \n",
       "</tr>\n",
       "<tr>\n",
       "  <th>Time:</th>                 <td>15:08:43</td>     <th>  Log-Likelihood:    </th> <td>-3.5736e+06</td>\n",
       "</tr>\n",
       "<tr>\n",
       "  <th>No. Observations:</th>      <td>758163</td>      <th>  AIC:               </th>  <td>7.147e+06</td> \n",
       "</tr>\n",
       "<tr>\n",
       "  <th>Df Residuals:</th>          <td>758158</td>      <th>  BIC:               </th>  <td>7.147e+06</td> \n",
       "</tr>\n",
       "<tr>\n",
       "  <th>Df Model:</th>              <td>     4</td>      <th>                     </th>      <td> </td>     \n",
       "</tr>\n",
       "<tr>\n",
       "  <th>Covariance Type:</th>      <td>nonrobust</td>    <th>                     </th>      <td> </td>     \n",
       "</tr>\n",
       "</table>\n",
       "<table class=\"simpletable\">\n",
       "<tr>\n",
       "                  <td></td>                    <th>coef</th>     <th>std err</th>      <th>t</th>      <th>P>|t|</th>  <th>[0.025</th>    <th>0.975]</th>  \n",
       "</tr>\n",
       "<tr>\n",
       "  <th>Intercept</th>                        <td>   29.8323</td> <td>    0.072</td> <td>  417.130</td> <td> 0.000</td> <td>   29.692</td> <td>   29.972</td>\n",
       "</tr>\n",
       "<tr>\n",
       "  <th>x[T.Early Morning (06:00-07:00)]</th> <td>  -23.1096</td> <td>    0.143</td> <td> -161.565</td> <td> 0.000</td> <td>  -23.390</td> <td>  -22.829</td>\n",
       "</tr>\n",
       "<tr>\n",
       "  <th>x[T.Evening (19:00-22:00)]</th>       <td>  -17.4037</td> <td>    0.101</td> <td> -172.055</td> <td> 0.000</td> <td>  -17.602</td> <td>  -17.205</td>\n",
       "</tr>\n",
       "<tr>\n",
       "  <th>x[T.Inter-peak (10:00-16:00)]</th>    <td>  -21.7927</td> <td>    0.088</td> <td> -248.799</td> <td> 0.000</td> <td>  -21.964</td> <td>  -21.621</td>\n",
       "</tr>\n",
       "<tr>\n",
       "  <th>x[T.PM peak (16:00-19:00)]</th>       <td>   -1.5956</td> <td>    0.101</td> <td>  -15.775</td> <td> 0.000</td> <td>   -1.794</td> <td>   -1.397</td>\n",
       "</tr>\n",
       "</table>\n",
       "<table class=\"simpletable\">\n",
       "<tr>\n",
       "  <th>Omnibus:</th>       <td>767708.124</td> <th>  Durbin-Watson:     </th>   <td>   0.158</td>  \n",
       "</tr>\n",
       "<tr>\n",
       "  <th>Prob(Omnibus):</th>   <td> 0.000</td>   <th>  Jarque-Bera (JB):  </th> <td>67983000.181</td>\n",
       "</tr>\n",
       "<tr>\n",
       "  <th>Skew:</th>            <td> 4.910</td>   <th>  Prob(JB):          </th>   <td>    0.00</td>  \n",
       "</tr>\n",
       "<tr>\n",
       "  <th>Kurtosis:</th>        <td>48.339</td>   <th>  Cond. No.          </th>   <td>    6.47</td>  \n",
       "</tr>\n",
       "</table><br/><br/>Notes:<br/>[1] Standard Errors assume that the covariance matrix of the errors is correctly specified."
      ],
      "text/plain": [
       "<class 'statsmodels.iolib.summary.Summary'>\n",
       "\"\"\"\n",
       "                            OLS Regression Results                            \n",
       "==============================================================================\n",
       "Dep. Variable:                      y   R-squared:                       0.116\n",
       "Model:                            OLS   Adj. R-squared:                  0.116\n",
       "Method:                 Least Squares   F-statistic:                 2.478e+04\n",
       "Date:                Tue, 16 Aug 2022   Prob (F-statistic):               0.00\n",
       "Time:                        15:08:43   Log-Likelihood:            -3.5736e+06\n",
       "No. Observations:              758163   AIC:                         7.147e+06\n",
       "Df Residuals:                  758158   BIC:                         7.147e+06\n",
       "Df Model:                           4                                         \n",
       "Covariance Type:            nonrobust                                         \n",
       "====================================================================================================\n",
       "                                       coef    std err          t      P>|t|      [0.025      0.975]\n",
       "----------------------------------------------------------------------------------------------------\n",
       "Intercept                           29.8323      0.072    417.130      0.000      29.692      29.972\n",
       "x[T.Early Morning (06:00-07:00)]   -23.1096      0.143   -161.565      0.000     -23.390     -22.829\n",
       "x[T.Evening (19:00-22:00)]         -17.4037      0.101   -172.055      0.000     -17.602     -17.205\n",
       "x[T.Inter-peak (10:00-16:00)]      -21.7927      0.088   -248.799      0.000     -21.964     -21.621\n",
       "x[T.PM peak (16:00-19:00)]          -1.5956      0.101    -15.775      0.000      -1.794      -1.397\n",
       "==============================================================================\n",
       "Omnibus:                   767708.124   Durbin-Watson:                   0.158\n",
       "Prob(Omnibus):                  0.000   Jarque-Bera (JB):         67983000.181\n",
       "Skew:                           4.910   Prob(JB):                         0.00\n",
       "Kurtosis:                      48.339   Cond. No.                         6.47\n",
       "==============================================================================\n",
       "\n",
       "Notes:\n",
       "[1] Standard Errors assume that the covariance matrix of the errors is correctly specified.\n",
       "\"\"\""
      ]
     },
     "execution_count": 61,
     "metadata": {},
     "output_type": "execute_result"
    }
   ],
   "source": [
    "# Print the regression table\n",
    "test.summary()"
   ]
  },
  {
   "cell_type": "markdown",
   "id": "5b412ba0",
   "metadata": {},
   "source": [
    "**Weather**"
   ]
  },
  {
   "cell_type": "code",
   "execution_count": 62,
   "id": "6cc49c76",
   "metadata": {},
   "outputs": [],
   "source": [
    "# Subset data based on top weather conditions\n",
    "central_london_topweather = central_london_clean.groupby('Weather').filter(lambda x : len(x) > 1000)"
   ]
  },
  {
   "cell_type": "code",
   "execution_count": 63,
   "id": "c5f3cdfe",
   "metadata": {},
   "outputs": [],
   "source": [
    "# Define the dependent variable\n",
    "y= central_london_topweather['Total cycles']"
   ]
  },
  {
   "cell_type": "code",
   "execution_count": 64,
   "id": "fb12b1a1",
   "metadata": {},
   "outputs": [],
   "source": [
    "# Define the indepedent variable\n",
    "x= central_london_topweather['Weather']"
   ]
  },
  {
   "cell_type": "code",
   "execution_count": 65,
   "id": "2da4b199",
   "metadata": {},
   "outputs": [],
   "source": [
    "# Create formula and pass through OLS methods\n",
    "f = 'y ~ x'\n",
    "test = ols(f, data= central_london_topweather).fit()"
   ]
  },
  {
   "cell_type": "code",
   "execution_count": 66,
   "id": "a85e96b4",
   "metadata": {},
   "outputs": [
    {
     "data": {
      "text/html": [
       "<table class=\"simpletable\">\n",
       "<caption>OLS Regression Results</caption>\n",
       "<tr>\n",
       "  <th>Dep. Variable:</th>            <td>y</td>        <th>  R-squared:         </th>  <td>   0.003</td>  \n",
       "</tr>\n",
       "<tr>\n",
       "  <th>Model:</th>                   <td>OLS</td>       <th>  Adj. R-squared:    </th>  <td>   0.003</td>  \n",
       "</tr>\n",
       "<tr>\n",
       "  <th>Method:</th>             <td>Least Squares</td>  <th>  F-statistic:       </th>  <td>   392.4</td>  \n",
       "</tr>\n",
       "<tr>\n",
       "  <th>Date:</th>             <td>Tue, 16 Aug 2022</td> <th>  Prob (F-statistic):</th>   <td>  0.00</td>   \n",
       "</tr>\n",
       "<tr>\n",
       "  <th>Time:</th>                 <td>15:08:45</td>     <th>  Log-Likelihood:    </th> <td>-3.4915e+06</td>\n",
       "</tr>\n",
       "<tr>\n",
       "  <th>No. Observations:</th>      <td>731231</td>      <th>  AIC:               </th>  <td>6.983e+06</td> \n",
       "</tr>\n",
       "<tr>\n",
       "  <th>Df Residuals:</th>          <td>731224</td>      <th>  BIC:               </th>  <td>6.983e+06</td> \n",
       "</tr>\n",
       "<tr>\n",
       "  <th>Df Model:</th>              <td>     6</td>      <th>                     </th>      <td> </td>     \n",
       "</tr>\n",
       "<tr>\n",
       "  <th>Covariance Type:</th>      <td>nonrobust</td>    <th>                     </th>      <td> </td>     \n",
       "</tr>\n",
       "</table>\n",
       "<table class=\"simpletable\">\n",
       "<tr>\n",
       "        <td></td>          <th>coef</th>     <th>std err</th>      <th>t</th>      <th>P>|t|</th>  <th>[0.025</th>    <th>0.975]</th>  \n",
       "</tr>\n",
       "<tr>\n",
       "  <th>Intercept</th>    <td>    8.3357</td> <td>    0.433</td> <td>   19.271</td> <td> 0.000</td> <td>    7.488</td> <td>    9.183</td>\n",
       "</tr>\n",
       "<tr>\n",
       "  <th>x[T.Drizzle]</th> <td>    6.3000</td> <td>    1.001</td> <td>    6.297</td> <td> 0.000</td> <td>    4.339</td> <td>    8.261</td>\n",
       "</tr>\n",
       "<tr>\n",
       "  <th>x[T.Dry]</th>     <td>    8.9920</td> <td>    0.434</td> <td>   20.715</td> <td> 0.000</td> <td>    8.141</td> <td>    9.843</td>\n",
       "</tr>\n",
       "<tr>\n",
       "  <th>x[T.Fine]</th>    <td>    8.5408</td> <td>    0.480</td> <td>   17.781</td> <td> 0.000</td> <td>    7.599</td> <td>    9.482</td>\n",
       "</tr>\n",
       "<tr>\n",
       "  <th>x[T.Rain]</th>    <td>    3.9626</td> <td>    0.582</td> <td>    6.805</td> <td> 0.000</td> <td>    2.821</td> <td>    5.104</td>\n",
       "</tr>\n",
       "<tr>\n",
       "  <th>x[T.Sunny]</th>   <td>    7.4866</td> <td>    0.704</td> <td>   10.631</td> <td> 0.000</td> <td>    6.106</td> <td>    8.867</td>\n",
       "</tr>\n",
       "<tr>\n",
       "  <th>x[T.Wet]</th>     <td>    4.3342</td> <td>    0.445</td> <td>    9.750</td> <td> 0.000</td> <td>    3.463</td> <td>    5.205</td>\n",
       "</tr>\n",
       "</table>\n",
       "<table class=\"simpletable\">\n",
       "<tr>\n",
       "  <th>Omnibus:</th>       <td>746170.659</td> <th>  Durbin-Watson:     </th>   <td>   0.120</td>  \n",
       "</tr>\n",
       "<tr>\n",
       "  <th>Prob(Omnibus):</th>   <td> 0.000</td>   <th>  Jarque-Bera (JB):  </th> <td>58061462.488</td>\n",
       "</tr>\n",
       "<tr>\n",
       "  <th>Skew:</th>            <td> 5.036</td>   <th>  Prob(JB):          </th>   <td>    0.00</td>  \n",
       "</tr>\n",
       "<tr>\n",
       "  <th>Kurtosis:</th>        <td>45.476</td>   <th>  Cond. No.          </th>   <td>    50.0</td>  \n",
       "</tr>\n",
       "</table><br/><br/>Notes:<br/>[1] Standard Errors assume that the covariance matrix of the errors is correctly specified."
      ],
      "text/plain": [
       "<class 'statsmodels.iolib.summary.Summary'>\n",
       "\"\"\"\n",
       "                            OLS Regression Results                            \n",
       "==============================================================================\n",
       "Dep. Variable:                      y   R-squared:                       0.003\n",
       "Model:                            OLS   Adj. R-squared:                  0.003\n",
       "Method:                 Least Squares   F-statistic:                     392.4\n",
       "Date:                Tue, 16 Aug 2022   Prob (F-statistic):               0.00\n",
       "Time:                        15:08:45   Log-Likelihood:            -3.4915e+06\n",
       "No. Observations:              731231   AIC:                         6.983e+06\n",
       "Df Residuals:                  731224   BIC:                         6.983e+06\n",
       "Df Model:                           6                                         \n",
       "Covariance Type:            nonrobust                                         \n",
       "================================================================================\n",
       "                   coef    std err          t      P>|t|      [0.025      0.975]\n",
       "--------------------------------------------------------------------------------\n",
       "Intercept        8.3357      0.433     19.271      0.000       7.488       9.183\n",
       "x[T.Drizzle]     6.3000      1.001      6.297      0.000       4.339       8.261\n",
       "x[T.Dry]         8.9920      0.434     20.715      0.000       8.141       9.843\n",
       "x[T.Fine]        8.5408      0.480     17.781      0.000       7.599       9.482\n",
       "x[T.Rain]        3.9626      0.582      6.805      0.000       2.821       5.104\n",
       "x[T.Sunny]       7.4866      0.704     10.631      0.000       6.106       8.867\n",
       "x[T.Wet]         4.3342      0.445      9.750      0.000       3.463       5.205\n",
       "==============================================================================\n",
       "Omnibus:                   746170.659   Durbin-Watson:                   0.120\n",
       "Prob(Omnibus):                  0.000   Jarque-Bera (JB):         58061462.488\n",
       "Skew:                           5.036   Prob(JB):                         0.00\n",
       "Kurtosis:                      45.476   Cond. No.                         50.0\n",
       "==============================================================================\n",
       "\n",
       "Notes:\n",
       "[1] Standard Errors assume that the covariance matrix of the errors is correctly specified.\n",
       "\"\"\""
      ]
     },
     "execution_count": 66,
     "metadata": {},
     "output_type": "execute_result"
    }
   ],
   "source": [
    "# Print the regression table\n",
    "test.summary()"
   ]
  },
  {
   "cell_type": "markdown",
   "id": "1788606b",
   "metadata": {},
   "source": [
    "### Inner London"
   ]
  },
  {
   "cell_type": "markdown",
   "id": "04baafb5",
   "metadata": {},
   "source": [
    "**Private cycles**"
   ]
  },
  {
   "cell_type": "code",
   "execution_count": 67,
   "id": "f2404d10",
   "metadata": {},
   "outputs": [],
   "source": [
    "# Define the dependent variable\n",
    "y= inner_london['Total cycles']"
   ]
  },
  {
   "cell_type": "code",
   "execution_count": 68,
   "id": "aa4778a3",
   "metadata": {},
   "outputs": [],
   "source": [
    "# Define the indepedent variable\n",
    "x= inner_london['Number of private cycles']"
   ]
  },
  {
   "cell_type": "code",
   "execution_count": 69,
   "id": "49e5bb62",
   "metadata": {},
   "outputs": [],
   "source": [
    "# Create formula and pass through OLS methods\n",
    "f = 'y ~ x'\n",
    "test = ols(f, data= inner_london).fit()"
   ]
  },
  {
   "cell_type": "code",
   "execution_count": 70,
   "id": "fb90bb24",
   "metadata": {},
   "outputs": [
    {
     "data": {
      "text/html": [
       "<table class=\"simpletable\">\n",
       "<caption>OLS Regression Results</caption>\n",
       "<tr>\n",
       "  <th>Dep. Variable:</th>            <td>y</td>        <th>  R-squared:         </th>  <td>   0.994</td>  \n",
       "</tr>\n",
       "<tr>\n",
       "  <th>Model:</th>                   <td>OLS</td>       <th>  Adj. R-squared:    </th>  <td>   0.994</td>  \n",
       "</tr>\n",
       "<tr>\n",
       "  <th>Method:</th>             <td>Least Squares</td>  <th>  F-statistic:       </th>  <td>8.119e+07</td> \n",
       "</tr>\n",
       "<tr>\n",
       "  <th>Date:</th>             <td>Tue, 16 Aug 2022</td> <th>  Prob (F-statistic):</th>   <td>  0.00</td>   \n",
       "</tr>\n",
       "<tr>\n",
       "  <th>Time:</th>                 <td>15:08:45</td>     <th>  Log-Likelihood:    </th> <td>-6.9118e+05</td>\n",
       "</tr>\n",
       "<tr>\n",
       "  <th>No. Observations:</th>      <td>523776</td>      <th>  AIC:               </th>  <td>1.382e+06</td> \n",
       "</tr>\n",
       "<tr>\n",
       "  <th>Df Residuals:</th>          <td>523774</td>      <th>  BIC:               </th>  <td>1.382e+06</td> \n",
       "</tr>\n",
       "<tr>\n",
       "  <th>Df Model:</th>              <td>     1</td>      <th>                     </th>      <td> </td>     \n",
       "</tr>\n",
       "<tr>\n",
       "  <th>Covariance Type:</th>      <td>nonrobust</td>    <th>                     </th>      <td> </td>     \n",
       "</tr>\n",
       "</table>\n",
       "<table class=\"simpletable\">\n",
       "<tr>\n",
       "      <td></td>         <th>coef</th>     <th>std err</th>      <th>t</th>      <th>P>|t|</th>  <th>[0.025</th>    <th>0.975]</th>  \n",
       "</tr>\n",
       "<tr>\n",
       "  <th>Intercept</th> <td>    0.0847</td> <td>    0.001</td> <td>   59.507</td> <td> 0.000</td> <td>    0.082</td> <td>    0.087</td>\n",
       "</tr>\n",
       "<tr>\n",
       "  <th>x</th>         <td>    1.0307</td> <td>    0.000</td> <td> 9010.702</td> <td> 0.000</td> <td>    1.030</td> <td>    1.031</td>\n",
       "</tr>\n",
       "</table>\n",
       "<table class=\"simpletable\">\n",
       "<tr>\n",
       "  <th>Omnibus:</th>       <td>474627.364</td> <th>  Durbin-Watson:     </th>   <td>   0.780</td>   \n",
       "</tr>\n",
       "<tr>\n",
       "  <th>Prob(Omnibus):</th>   <td> 0.000</td>   <th>  Jarque-Bera (JB):  </th> <td>868877984.754</td>\n",
       "</tr>\n",
       "<tr>\n",
       "  <th>Skew:</th>            <td> 3.115</td>   <th>  Prob(JB):          </th>   <td>    0.00</td>   \n",
       "</tr>\n",
       "<tr>\n",
       "  <th>Kurtosis:</th>        <td>202.435</td>  <th>  Cond. No.          </th>   <td>    14.2</td>   \n",
       "</tr>\n",
       "</table><br/><br/>Notes:<br/>[1] Standard Errors assume that the covariance matrix of the errors is correctly specified."
      ],
      "text/plain": [
       "<class 'statsmodels.iolib.summary.Summary'>\n",
       "\"\"\"\n",
       "                            OLS Regression Results                            \n",
       "==============================================================================\n",
       "Dep. Variable:                      y   R-squared:                       0.994\n",
       "Model:                            OLS   Adj. R-squared:                  0.994\n",
       "Method:                 Least Squares   F-statistic:                 8.119e+07\n",
       "Date:                Tue, 16 Aug 2022   Prob (F-statistic):               0.00\n",
       "Time:                        15:08:45   Log-Likelihood:            -6.9118e+05\n",
       "No. Observations:              523776   AIC:                         1.382e+06\n",
       "Df Residuals:                  523774   BIC:                         1.382e+06\n",
       "Df Model:                           1                                         \n",
       "Covariance Type:            nonrobust                                         \n",
       "==============================================================================\n",
       "                 coef    std err          t      P>|t|      [0.025      0.975]\n",
       "------------------------------------------------------------------------------\n",
       "Intercept      0.0847      0.001     59.507      0.000       0.082       0.087\n",
       "x              1.0307      0.000   9010.702      0.000       1.030       1.031\n",
       "==============================================================================\n",
       "Omnibus:                   474627.364   Durbin-Watson:                   0.780\n",
       "Prob(Omnibus):                  0.000   Jarque-Bera (JB):        868877984.754\n",
       "Skew:                           3.115   Prob(JB):                         0.00\n",
       "Kurtosis:                     202.435   Cond. No.                         14.2\n",
       "==============================================================================\n",
       "\n",
       "Notes:\n",
       "[1] Standard Errors assume that the covariance matrix of the errors is correctly specified.\n",
       "\"\"\""
      ]
     },
     "execution_count": 70,
     "metadata": {},
     "output_type": "execute_result"
    }
   ],
   "source": [
    "# Print the regression table\n",
    "test.summary()"
   ]
  },
  {
   "cell_type": "markdown",
   "id": "5c811847",
   "metadata": {},
   "source": [
    "**Cycle hires**"
   ]
  },
  {
   "cell_type": "code",
   "execution_count": 71,
   "id": "25dc6637",
   "metadata": {},
   "outputs": [],
   "source": [
    "# Define the dependent variable\n",
    "y= inner_london['Total cycles']"
   ]
  },
  {
   "cell_type": "code",
   "execution_count": 72,
   "id": "7a4e4adf",
   "metadata": {},
   "outputs": [],
   "source": [
    "# Define the indepedent variable\n",
    "x= inner_london['Number of cycle hire bikes']"
   ]
  },
  {
   "cell_type": "code",
   "execution_count": 73,
   "id": "7f6aab4d",
   "metadata": {},
   "outputs": [],
   "source": [
    "# Create formula and pass through OLS methods\n",
    "f = 'y ~ x'\n",
    "test = ols(f, data= inner_london).fit()"
   ]
  },
  {
   "cell_type": "code",
   "execution_count": 74,
   "id": "325b669a",
   "metadata": {},
   "outputs": [
    {
     "data": {
      "text/html": [
       "<table class=\"simpletable\">\n",
       "<caption>OLS Regression Results</caption>\n",
       "<tr>\n",
       "  <th>Dep. Variable:</th>            <td>y</td>        <th>  R-squared:         </th>  <td>   0.185</td>  \n",
       "</tr>\n",
       "<tr>\n",
       "  <th>Model:</th>                   <td>OLS</td>       <th>  Adj. R-squared:    </th>  <td>   0.185</td>  \n",
       "</tr>\n",
       "<tr>\n",
       "  <th>Method:</th>             <td>Least Squares</td>  <th>  F-statistic:       </th>  <td>1.192e+05</td> \n",
       "</tr>\n",
       "<tr>\n",
       "  <th>Date:</th>             <td>Tue, 16 Aug 2022</td> <th>  Prob (F-statistic):</th>   <td>  0.00</td>   \n",
       "</tr>\n",
       "<tr>\n",
       "  <th>Time:</th>                 <td>15:08:45</td>     <th>  Log-Likelihood:    </th> <td>-1.9600e+06</td>\n",
       "</tr>\n",
       "<tr>\n",
       "  <th>No. Observations:</th>      <td>523776</td>      <th>  AIC:               </th>  <td>3.920e+06</td> \n",
       "</tr>\n",
       "<tr>\n",
       "  <th>Df Residuals:</th>          <td>523774</td>      <th>  BIC:               </th>  <td>3.920e+06</td> \n",
       "</tr>\n",
       "<tr>\n",
       "  <th>Df Model:</th>              <td>     1</td>      <th>                     </th>      <td> </td>     \n",
       "</tr>\n",
       "<tr>\n",
       "  <th>Covariance Type:</th>      <td>nonrobust</td>    <th>                     </th>      <td> </td>     \n",
       "</tr>\n",
       "</table>\n",
       "<table class=\"simpletable\">\n",
       "<tr>\n",
       "      <td></td>         <th>coef</th>     <th>std err</th>      <th>t</th>      <th>P>|t|</th>  <th>[0.025</th>    <th>0.975]</th>  \n",
       "</tr>\n",
       "<tr>\n",
       "  <th>Intercept</th> <td>    4.8149</td> <td>    0.015</td> <td>  328.426</td> <td> 0.000</td> <td>    4.786</td> <td>    4.844</td>\n",
       "</tr>\n",
       "<tr>\n",
       "  <th>x</th>         <td>    5.1559</td> <td>    0.015</td> <td>  345.282</td> <td> 0.000</td> <td>    5.127</td> <td>    5.185</td>\n",
       "</tr>\n",
       "</table>\n",
       "<table class=\"simpletable\">\n",
       "<tr>\n",
       "  <th>Omnibus:</th>       <td>572340.779</td> <th>  Durbin-Watson:     </th>   <td>   0.262</td>  \n",
       "</tr>\n",
       "<tr>\n",
       "  <th>Prob(Omnibus):</th>   <td> 0.000</td>   <th>  Jarque-Bera (JB):  </th> <td>69106087.322</td>\n",
       "</tr>\n",
       "<tr>\n",
       "  <th>Skew:</th>            <td> 5.489</td>   <th>  Prob(JB):          </th>   <td>    0.00</td>  \n",
       "</tr>\n",
       "<tr>\n",
       "  <th>Kurtosis:</th>        <td>58.190</td>   <th>  Cond. No.          </th>   <td>    1.32</td>  \n",
       "</tr>\n",
       "</table><br/><br/>Notes:<br/>[1] Standard Errors assume that the covariance matrix of the errors is correctly specified."
      ],
      "text/plain": [
       "<class 'statsmodels.iolib.summary.Summary'>\n",
       "\"\"\"\n",
       "                            OLS Regression Results                            \n",
       "==============================================================================\n",
       "Dep. Variable:                      y   R-squared:                       0.185\n",
       "Model:                            OLS   Adj. R-squared:                  0.185\n",
       "Method:                 Least Squares   F-statistic:                 1.192e+05\n",
       "Date:                Tue, 16 Aug 2022   Prob (F-statistic):               0.00\n",
       "Time:                        15:08:45   Log-Likelihood:            -1.9600e+06\n",
       "No. Observations:              523776   AIC:                         3.920e+06\n",
       "Df Residuals:                  523774   BIC:                         3.920e+06\n",
       "Df Model:                           1                                         \n",
       "Covariance Type:            nonrobust                                         \n",
       "==============================================================================\n",
       "                 coef    std err          t      P>|t|      [0.025      0.975]\n",
       "------------------------------------------------------------------------------\n",
       "Intercept      4.8149      0.015    328.426      0.000       4.786       4.844\n",
       "x              5.1559      0.015    345.282      0.000       5.127       5.185\n",
       "==============================================================================\n",
       "Omnibus:                   572340.779   Durbin-Watson:                   0.262\n",
       "Prob(Omnibus):                  0.000   Jarque-Bera (JB):         69106087.322\n",
       "Skew:                           5.489   Prob(JB):                         0.00\n",
       "Kurtosis:                      58.190   Cond. No.                         1.32\n",
       "==============================================================================\n",
       "\n",
       "Notes:\n",
       "[1] Standard Errors assume that the covariance matrix of the errors is correctly specified.\n",
       "\"\"\""
      ]
     },
     "execution_count": 74,
     "metadata": {},
     "output_type": "execute_result"
    }
   ],
   "source": [
    "# Print the regression table\n",
    "test.summary()"
   ]
  },
  {
   "cell_type": "markdown",
   "id": "09d940ff",
   "metadata": {},
   "source": [
    "**Time of Year**"
   ]
  },
  {
   "cell_type": "code",
   "execution_count": 75,
   "id": "6b577cce",
   "metadata": {},
   "outputs": [],
   "source": [
    "# Define the dependent variable\n",
    "y= inner_london['Total cycles']"
   ]
  },
  {
   "cell_type": "code",
   "execution_count": 76,
   "id": "fd5ed855",
   "metadata": {},
   "outputs": [],
   "source": [
    "# Define the indepedent variable\n",
    "x= inner_london['Quarter']"
   ]
  },
  {
   "cell_type": "code",
   "execution_count": 77,
   "id": "954793ac",
   "metadata": {},
   "outputs": [],
   "source": [
    "# Create formula and pass through OLS methods\n",
    "f = 'y ~ x'\n",
    "test = ols(f, data= inner_london).fit()"
   ]
  },
  {
   "cell_type": "code",
   "execution_count": 78,
   "id": "9baf9c25",
   "metadata": {},
   "outputs": [
    {
     "data": {
      "text/html": [
       "<table class=\"simpletable\">\n",
       "<caption>OLS Regression Results</caption>\n",
       "<tr>\n",
       "  <th>Dep. Variable:</th>            <td>y</td>        <th>  R-squared:         </th>  <td>   0.003</td>  \n",
       "</tr>\n",
       "<tr>\n",
       "  <th>Model:</th>                   <td>OLS</td>       <th>  Adj. R-squared:    </th>  <td>   0.003</td>  \n",
       "</tr>\n",
       "<tr>\n",
       "  <th>Method:</th>             <td>Least Squares</td>  <th>  F-statistic:       </th>  <td>   343.4</td>  \n",
       "</tr>\n",
       "<tr>\n",
       "  <th>Date:</th>             <td>Tue, 16 Aug 2022</td> <th>  Prob (F-statistic):</th>  <td>8.94e-296</td> \n",
       "</tr>\n",
       "<tr>\n",
       "  <th>Time:</th>                 <td>15:08:46</td>     <th>  Log-Likelihood:    </th> <td>-2.0130e+06</td>\n",
       "</tr>\n",
       "<tr>\n",
       "  <th>No. Observations:</th>      <td>523776</td>      <th>  AIC:               </th>  <td>4.026e+06</td> \n",
       "</tr>\n",
       "<tr>\n",
       "  <th>Df Residuals:</th>          <td>523771</td>      <th>  BIC:               </th>  <td>4.026e+06</td> \n",
       "</tr>\n",
       "<tr>\n",
       "  <th>Df Model:</th>              <td>     4</td>      <th>                     </th>      <td> </td>     \n",
       "</tr>\n",
       "<tr>\n",
       "  <th>Covariance Type:</th>      <td>nonrobust</td>    <th>                     </th>      <td> </td>     \n",
       "</tr>\n",
       "</table>\n",
       "<table class=\"simpletable\">\n",
       "<tr>\n",
       "      <td></td>         <th>coef</th>     <th>std err</th>      <th>t</th>      <th>P>|t|</th>  <th>[0.025</th>    <th>0.975]</th>  \n",
       "</tr>\n",
       "<tr>\n",
       "  <th>Intercept</th> <td>    5.1148</td> <td>    0.215</td> <td>   23.756</td> <td> 0.000</td> <td>    4.693</td> <td>    5.537</td>\n",
       "</tr>\n",
       "<tr>\n",
       "  <th>x[T.Q1]</th>   <td>   -3.8593</td> <td>    1.210</td> <td>   -3.190</td> <td> 0.001</td> <td>   -6.231</td> <td>   -1.488</td>\n",
       "</tr>\n",
       "<tr>\n",
       "  <th>x[T.Q2]</th>   <td>    0.7998</td> <td>    0.216</td> <td>    3.701</td> <td> 0.000</td> <td>    0.376</td> <td>    1.223</td>\n",
       "</tr>\n",
       "<tr>\n",
       "  <th>x[T.Q3]</th>   <td>    1.5831</td> <td>    0.218</td> <td>    7.267</td> <td> 0.000</td> <td>    1.156</td> <td>    2.010</td>\n",
       "</tr>\n",
       "<tr>\n",
       "  <th>x[T.Q4]</th>   <td>    3.1996</td> <td>    0.227</td> <td>   14.093</td> <td> 0.000</td> <td>    2.755</td> <td>    3.645</td>\n",
       "</tr>\n",
       "</table>\n",
       "<table class=\"simpletable\">\n",
       "<tr>\n",
       "  <th>Omnibus:</th>       <td>586298.188</td> <th>  Durbin-Watson:     </th>   <td>   0.150</td>  \n",
       "</tr>\n",
       "<tr>\n",
       "  <th>Prob(Omnibus):</th>   <td> 0.000</td>   <th>  Jarque-Bera (JB):  </th> <td>69563271.507</td>\n",
       "</tr>\n",
       "<tr>\n",
       "  <th>Skew:</th>            <td> 5.747</td>   <th>  Prob(JB):          </th>   <td>    0.00</td>  \n",
       "</tr>\n",
       "<tr>\n",
       "  <th>Kurtosis:</th>        <td>58.275</td>   <th>  Cond. No.          </th>   <td>    99.0</td>  \n",
       "</tr>\n",
       "</table><br/><br/>Notes:<br/>[1] Standard Errors assume that the covariance matrix of the errors is correctly specified."
      ],
      "text/plain": [
       "<class 'statsmodels.iolib.summary.Summary'>\n",
       "\"\"\"\n",
       "                            OLS Regression Results                            \n",
       "==============================================================================\n",
       "Dep. Variable:                      y   R-squared:                       0.003\n",
       "Model:                            OLS   Adj. R-squared:                  0.003\n",
       "Method:                 Least Squares   F-statistic:                     343.4\n",
       "Date:                Tue, 16 Aug 2022   Prob (F-statistic):          8.94e-296\n",
       "Time:                        15:08:46   Log-Likelihood:            -2.0130e+06\n",
       "No. Observations:              523776   AIC:                         4.026e+06\n",
       "Df Residuals:                  523771   BIC:                         4.026e+06\n",
       "Df Model:                           4                                         \n",
       "Covariance Type:            nonrobust                                         \n",
       "==============================================================================\n",
       "                 coef    std err          t      P>|t|      [0.025      0.975]\n",
       "------------------------------------------------------------------------------\n",
       "Intercept      5.1148      0.215     23.756      0.000       4.693       5.537\n",
       "x[T.Q1]       -3.8593      1.210     -3.190      0.001      -6.231      -1.488\n",
       "x[T.Q2]        0.7998      0.216      3.701      0.000       0.376       1.223\n",
       "x[T.Q3]        1.5831      0.218      7.267      0.000       1.156       2.010\n",
       "x[T.Q4]        3.1996      0.227     14.093      0.000       2.755       3.645\n",
       "==============================================================================\n",
       "Omnibus:                   586298.188   Durbin-Watson:                   0.150\n",
       "Prob(Omnibus):                  0.000   Jarque-Bera (JB):         69563271.507\n",
       "Skew:                           5.747   Prob(JB):                         0.00\n",
       "Kurtosis:                      58.275   Cond. No.                         99.0\n",
       "==============================================================================\n",
       "\n",
       "Notes:\n",
       "[1] Standard Errors assume that the covariance matrix of the errors is correctly specified.\n",
       "\"\"\""
      ]
     },
     "execution_count": 78,
     "metadata": {},
     "output_type": "execute_result"
    }
   ],
   "source": [
    "# Print the regression table\n",
    "test.summary()"
   ]
  },
  {
   "cell_type": "markdown",
   "id": "b594b34f",
   "metadata": {},
   "source": [
    "**Time of day**"
   ]
  },
  {
   "cell_type": "code",
   "execution_count": 79,
   "id": "f0d9d339",
   "metadata": {},
   "outputs": [],
   "source": [
    "# Define the dependent variable\n",
    "y= inner_london['Total cycles']"
   ]
  },
  {
   "cell_type": "code",
   "execution_count": 80,
   "id": "062781fd",
   "metadata": {},
   "outputs": [],
   "source": [
    "# Define the indepedent variable\n",
    "x= inner_london['Period']"
   ]
  },
  {
   "cell_type": "code",
   "execution_count": 81,
   "id": "2d9af396",
   "metadata": {},
   "outputs": [],
   "source": [
    "# Create formula and pass through OLS methods\n",
    "f = 'y ~ x'\n",
    "test = ols(f, data= inner_london).fit()"
   ]
  },
  {
   "cell_type": "code",
   "execution_count": 82,
   "id": "4a770637",
   "metadata": {},
   "outputs": [
    {
     "data": {
      "text/html": [
       "<table class=\"simpletable\">\n",
       "<caption>OLS Regression Results</caption>\n",
       "<tr>\n",
       "  <th>Dep. Variable:</th>            <td>y</td>        <th>  R-squared:         </th>  <td>   0.061</td>  \n",
       "</tr>\n",
       "<tr>\n",
       "  <th>Model:</th>                   <td>OLS</td>       <th>  Adj. R-squared:    </th>  <td>   0.061</td>  \n",
       "</tr>\n",
       "<tr>\n",
       "  <th>Method:</th>             <td>Least Squares</td>  <th>  F-statistic:       </th>  <td>   8492.</td>  \n",
       "</tr>\n",
       "<tr>\n",
       "  <th>Date:</th>             <td>Tue, 16 Aug 2022</td> <th>  Prob (F-statistic):</th>   <td>  0.00</td>   \n",
       "</tr>\n",
       "<tr>\n",
       "  <th>Time:</th>                 <td>15:08:48</td>     <th>  Log-Likelihood:    </th> <td>-1.9972e+06</td>\n",
       "</tr>\n",
       "<tr>\n",
       "  <th>No. Observations:</th>      <td>523770</td>      <th>  AIC:               </th>  <td>3.994e+06</td> \n",
       "</tr>\n",
       "<tr>\n",
       "  <th>Df Residuals:</th>          <td>523765</td>      <th>  BIC:               </th>  <td>3.995e+06</td> \n",
       "</tr>\n",
       "<tr>\n",
       "  <th>Df Model:</th>              <td>     4</td>      <th>                     </th>      <td> </td>     \n",
       "</tr>\n",
       "<tr>\n",
       "  <th>Covariance Type:</th>      <td>nonrobust</td>    <th>                     </th>      <td> </td>     \n",
       "</tr>\n",
       "</table>\n",
       "<table class=\"simpletable\">\n",
       "<tr>\n",
       "                  <td></td>                    <th>coef</th>     <th>std err</th>      <th>t</th>      <th>P>|t|</th>  <th>[0.025</th>    <th>0.975]</th>  \n",
       "</tr>\n",
       "<tr>\n",
       "  <th>Intercept</th>                        <td>    9.6320</td> <td>    0.035</td> <td>  275.411</td> <td> 0.000</td> <td>    9.563</td> <td>    9.701</td>\n",
       "</tr>\n",
       "<tr>\n",
       "  <th>x[T.Early Morning (06:00-07:00)]</th> <td>   -6.5737</td> <td>    0.070</td> <td>  -93.982</td> <td> 0.000</td> <td>   -6.711</td> <td>   -6.437</td>\n",
       "</tr>\n",
       "<tr>\n",
       "  <th>x[T.Evening (19:00-22:00)]</th>       <td>   -4.2035</td> <td>    0.049</td> <td>  -84.988</td> <td> 0.000</td> <td>   -4.300</td> <td>   -4.107</td>\n",
       "</tr>\n",
       "<tr>\n",
       "  <th>x[T.Inter-peak (10:00-16:00)]</th>    <td>   -6.0172</td> <td>    0.043</td> <td> -140.480</td> <td> 0.000</td> <td>   -6.101</td> <td>   -5.933</td>\n",
       "</tr>\n",
       "<tr>\n",
       "  <th>x[T.PM peak (16:00-19:00)]</th>       <td>    0.1058</td> <td>    0.049</td> <td>    2.138</td> <td> 0.032</td> <td>    0.009</td> <td>    0.203</td>\n",
       "</tr>\n",
       "</table>\n",
       "<table class=\"simpletable\">\n",
       "<tr>\n",
       "  <th>Omnibus:</th>       <td>580143.279</td> <th>  Durbin-Watson:     </th>   <td>   0.171</td>  \n",
       "</tr>\n",
       "<tr>\n",
       "  <th>Prob(Omnibus):</th>   <td> 0.000</td>   <th>  Jarque-Bera (JB):  </th> <td>71224652.060</td>\n",
       "</tr>\n",
       "<tr>\n",
       "  <th>Skew:</th>            <td> 5.621</td>   <th>  Prob(JB):          </th>   <td>    0.00</td>  \n",
       "</tr>\n",
       "<tr>\n",
       "  <th>Kurtosis:</th>        <td>59.011</td>   <th>  Cond. No.          </th>   <td>    6.47</td>  \n",
       "</tr>\n",
       "</table><br/><br/>Notes:<br/>[1] Standard Errors assume that the covariance matrix of the errors is correctly specified."
      ],
      "text/plain": [
       "<class 'statsmodels.iolib.summary.Summary'>\n",
       "\"\"\"\n",
       "                            OLS Regression Results                            \n",
       "==============================================================================\n",
       "Dep. Variable:                      y   R-squared:                       0.061\n",
       "Model:                            OLS   Adj. R-squared:                  0.061\n",
       "Method:                 Least Squares   F-statistic:                     8492.\n",
       "Date:                Tue, 16 Aug 2022   Prob (F-statistic):               0.00\n",
       "Time:                        15:08:48   Log-Likelihood:            -1.9972e+06\n",
       "No. Observations:              523770   AIC:                         3.994e+06\n",
       "Df Residuals:                  523765   BIC:                         3.995e+06\n",
       "Df Model:                           4                                         \n",
       "Covariance Type:            nonrobust                                         \n",
       "====================================================================================================\n",
       "                                       coef    std err          t      P>|t|      [0.025      0.975]\n",
       "----------------------------------------------------------------------------------------------------\n",
       "Intercept                            9.6320      0.035    275.411      0.000       9.563       9.701\n",
       "x[T.Early Morning (06:00-07:00)]    -6.5737      0.070    -93.982      0.000      -6.711      -6.437\n",
       "x[T.Evening (19:00-22:00)]          -4.2035      0.049    -84.988      0.000      -4.300      -4.107\n",
       "x[T.Inter-peak (10:00-16:00)]       -6.0172      0.043   -140.480      0.000      -6.101      -5.933\n",
       "x[T.PM peak (16:00-19:00)]           0.1058      0.049      2.138      0.032       0.009       0.203\n",
       "==============================================================================\n",
       "Omnibus:                   580143.279   Durbin-Watson:                   0.171\n",
       "Prob(Omnibus):                  0.000   Jarque-Bera (JB):         71224652.060\n",
       "Skew:                           5.621   Prob(JB):                         0.00\n",
       "Kurtosis:                      59.011   Cond. No.                         6.47\n",
       "==============================================================================\n",
       "\n",
       "Notes:\n",
       "[1] Standard Errors assume that the covariance matrix of the errors is correctly specified.\n",
       "\"\"\""
      ]
     },
     "execution_count": 82,
     "metadata": {},
     "output_type": "execute_result"
    }
   ],
   "source": [
    "# Print the regression table\n",
    "test.summary()"
   ]
  },
  {
   "cell_type": "markdown",
   "id": "f741f0f7",
   "metadata": {},
   "source": [
    "**Weather**"
   ]
  },
  {
   "cell_type": "code",
   "execution_count": 83,
   "id": "d8c46f5d",
   "metadata": {},
   "outputs": [],
   "source": [
    "# Subset data based on top weather conditions\n",
    "inner_london_topweather = inner_london.groupby('Weather').filter(lambda x : len(x) > 1000)"
   ]
  },
  {
   "cell_type": "code",
   "execution_count": 84,
   "id": "9299c664",
   "metadata": {},
   "outputs": [],
   "source": [
    "# Define the dependent variable\n",
    "y= inner_london_topweather['Total cycles']"
   ]
  },
  {
   "cell_type": "code",
   "execution_count": 85,
   "id": "9f878239",
   "metadata": {},
   "outputs": [],
   "source": [
    "# Define the indepedent variable\n",
    "x= inner_london_topweather['Weather']"
   ]
  },
  {
   "cell_type": "code",
   "execution_count": 86,
   "id": "e9be21fd",
   "metadata": {},
   "outputs": [],
   "source": [
    "# Create formula and pass through OLS methods\n",
    "f = 'y ~ x'\n",
    "test = ols(f, data= inner_london_topweather).fit()"
   ]
  },
  {
   "cell_type": "code",
   "execution_count": 87,
   "id": "6fe5d50c",
   "metadata": {},
   "outputs": [
    {
     "data": {
      "text/html": [
       "<table class=\"simpletable\">\n",
       "<caption>OLS Regression Results</caption>\n",
       "<tr>\n",
       "  <th>Dep. Variable:</th>            <td>y</td>        <th>  R-squared:         </th>  <td>   0.002</td>  \n",
       "</tr>\n",
       "<tr>\n",
       "  <th>Model:</th>                   <td>OLS</td>       <th>  Adj. R-squared:    </th>  <td>   0.002</td>  \n",
       "</tr>\n",
       "<tr>\n",
       "  <th>Method:</th>             <td>Least Squares</td>  <th>  F-statistic:       </th>  <td>   150.1</td>  \n",
       "</tr>\n",
       "<tr>\n",
       "  <th>Date:</th>             <td>Tue, 16 Aug 2022</td> <th>  Prob (F-statistic):</th>  <td>4.65e-191</td> \n",
       "</tr>\n",
       "<tr>\n",
       "  <th>Time:</th>                 <td>15:08:49</td>     <th>  Log-Likelihood:    </th> <td>-1.9630e+06</td>\n",
       "</tr>\n",
       "<tr>\n",
       "  <th>No. Observations:</th>      <td>510267</td>      <th>  AIC:               </th>  <td>3.926e+06</td> \n",
       "</tr>\n",
       "<tr>\n",
       "  <th>Df Residuals:</th>          <td>510260</td>      <th>  BIC:               </th>  <td>3.926e+06</td> \n",
       "</tr>\n",
       "<tr>\n",
       "  <th>Df Model:</th>              <td>     6</td>      <th>                     </th>      <td> </td>     \n",
       "</tr>\n",
       "<tr>\n",
       "  <th>Covariance Type:</th>      <td>nonrobust</td>    <th>                     </th>      <td> </td>     \n",
       "</tr>\n",
       "</table>\n",
       "<table class=\"simpletable\">\n",
       "<tr>\n",
       "       <td></td>         <th>coef</th>     <th>std err</th>      <th>t</th>      <th>P>|t|</th>  <th>[0.025</th>    <th>0.975]</th>  \n",
       "</tr>\n",
       "<tr>\n",
       "  <th>Intercept</th>  <td>    7.3481</td> <td>    0.150</td> <td>   49.110</td> <td> 0.000</td> <td>    7.055</td> <td>    7.641</td>\n",
       "</tr>\n",
       "<tr>\n",
       "  <th>x[T.Dry]</th>   <td>   -0.9834</td> <td>    0.151</td> <td>   -6.529</td> <td> 0.000</td> <td>   -1.279</td> <td>   -0.688</td>\n",
       "</tr>\n",
       "<tr>\n",
       "  <th>x[T.Fine]</th>  <td>   -4.6858</td> <td>    0.334</td> <td>  -14.009</td> <td> 0.000</td> <td>   -5.341</td> <td>   -4.030</td>\n",
       "</tr>\n",
       "<tr>\n",
       "  <th>x[T.N/a]</th>   <td>   -1.9370</td> <td>    0.292</td> <td>   -6.638</td> <td> 0.000</td> <td>   -2.509</td> <td>   -1.365</td>\n",
       "</tr>\n",
       "<tr>\n",
       "  <th>x[T.Rain]</th>  <td>   -2.9747</td> <td>    0.256</td> <td>  -11.619</td> <td> 0.000</td> <td>   -3.476</td> <td>   -2.473</td>\n",
       "</tr>\n",
       "<tr>\n",
       "  <th>x[T.Sunny]</th> <td>   -0.7464</td> <td>    0.196</td> <td>   -3.809</td> <td> 0.000</td> <td>   -1.130</td> <td>   -0.362</td>\n",
       "</tr>\n",
       "<tr>\n",
       "  <th>x[T.Wet]</th>   <td>   -2.2340</td> <td>    0.157</td> <td>  -14.219</td> <td> 0.000</td> <td>   -2.542</td> <td>   -1.926</td>\n",
       "</tr>\n",
       "</table>\n",
       "<table class=\"simpletable\">\n",
       "<tr>\n",
       "  <th>Omnibus:</th>       <td>569754.505</td> <th>  Durbin-Watson:     </th>   <td>   0.151</td>  \n",
       "</tr>\n",
       "<tr>\n",
       "  <th>Prob(Omnibus):</th>   <td> 0.000</td>   <th>  Jarque-Bera (JB):  </th> <td>67084142.842</td>\n",
       "</tr>\n",
       "<tr>\n",
       "  <th>Skew:</th>            <td> 5.724</td>   <th>  Prob(JB):          </th>   <td>    0.00</td>  \n",
       "</tr>\n",
       "<tr>\n",
       "  <th>Kurtosis:</th>        <td>57.993</td>   <th>  Cond. No.          </th>   <td>    37.2</td>  \n",
       "</tr>\n",
       "</table><br/><br/>Notes:<br/>[1] Standard Errors assume that the covariance matrix of the errors is correctly specified."
      ],
      "text/plain": [
       "<class 'statsmodels.iolib.summary.Summary'>\n",
       "\"\"\"\n",
       "                            OLS Regression Results                            \n",
       "==============================================================================\n",
       "Dep. Variable:                      y   R-squared:                       0.002\n",
       "Model:                            OLS   Adj. R-squared:                  0.002\n",
       "Method:                 Least Squares   F-statistic:                     150.1\n",
       "Date:                Tue, 16 Aug 2022   Prob (F-statistic):          4.65e-191\n",
       "Time:                        15:08:49   Log-Likelihood:            -1.9630e+06\n",
       "No. Observations:              510267   AIC:                         3.926e+06\n",
       "Df Residuals:                  510260   BIC:                         3.926e+06\n",
       "Df Model:                           6                                         \n",
       "Covariance Type:            nonrobust                                         \n",
       "==============================================================================\n",
       "                 coef    std err          t      P>|t|      [0.025      0.975]\n",
       "------------------------------------------------------------------------------\n",
       "Intercept      7.3481      0.150     49.110      0.000       7.055       7.641\n",
       "x[T.Dry]      -0.9834      0.151     -6.529      0.000      -1.279      -0.688\n",
       "x[T.Fine]     -4.6858      0.334    -14.009      0.000      -5.341      -4.030\n",
       "x[T.N/a]      -1.9370      0.292     -6.638      0.000      -2.509      -1.365\n",
       "x[T.Rain]     -2.9747      0.256    -11.619      0.000      -3.476      -2.473\n",
       "x[T.Sunny]    -0.7464      0.196     -3.809      0.000      -1.130      -0.362\n",
       "x[T.Wet]      -2.2340      0.157    -14.219      0.000      -2.542      -1.926\n",
       "==============================================================================\n",
       "Omnibus:                   569754.505   Durbin-Watson:                   0.151\n",
       "Prob(Omnibus):                  0.000   Jarque-Bera (JB):         67084142.842\n",
       "Skew:                           5.724   Prob(JB):                         0.00\n",
       "Kurtosis:                      57.993   Cond. No.                         37.2\n",
       "==============================================================================\n",
       "\n",
       "Notes:\n",
       "[1] Standard Errors assume that the covariance matrix of the errors is correctly specified.\n",
       "\"\"\""
      ]
     },
     "execution_count": 87,
     "metadata": {},
     "output_type": "execute_result"
    }
   ],
   "source": [
    "# Print the regression table\n",
    "test.summary()"
   ]
  },
  {
   "cell_type": "markdown",
   "id": "f2f6170c",
   "metadata": {},
   "source": [
    "### Outer London"
   ]
  },
  {
   "cell_type": "markdown",
   "id": "3bec28e7",
   "metadata": {},
   "source": [
    "**Time of Year**"
   ]
  },
  {
   "cell_type": "code",
   "execution_count": 88,
   "id": "6cbf31c3",
   "metadata": {},
   "outputs": [],
   "source": [
    "# Define the dependent variable\n",
    "y= outer_london['Total cycles']"
   ]
  },
  {
   "cell_type": "code",
   "execution_count": 89,
   "id": "c0ca7116",
   "metadata": {},
   "outputs": [],
   "source": [
    "# Define the indepedent variable\n",
    "x= outer_london['Quarter']"
   ]
  },
  {
   "cell_type": "code",
   "execution_count": 90,
   "id": "0392bb8e",
   "metadata": {},
   "outputs": [],
   "source": [
    "# Create formula and pass through OLS methods\n",
    "f = 'y ~ x'\n",
    "test = ols(f, data= outer_london).fit()"
   ]
  },
  {
   "cell_type": "code",
   "execution_count": 91,
   "id": "4ed4ff8a",
   "metadata": {},
   "outputs": [
    {
     "data": {
      "text/html": [
       "<table class=\"simpletable\">\n",
       "<caption>OLS Regression Results</caption>\n",
       "<tr>\n",
       "  <th>Dep. Variable:</th>            <td>y</td>        <th>  R-squared:         </th>  <td>   0.011</td>  \n",
       "</tr>\n",
       "<tr>\n",
       "  <th>Model:</th>                   <td>OLS</td>       <th>  Adj. R-squared:    </th>  <td>   0.011</td>  \n",
       "</tr>\n",
       "<tr>\n",
       "  <th>Method:</th>             <td>Least Squares</td>  <th>  F-statistic:       </th>  <td>   1418.</td>  \n",
       "</tr>\n",
       "<tr>\n",
       "  <th>Date:</th>             <td>Tue, 16 Aug 2022</td> <th>  Prob (F-statistic):</th>   <td>  0.00</td>   \n",
       "</tr>\n",
       "<tr>\n",
       "  <th>Time:</th>                 <td>15:08:50</td>     <th>  Log-Likelihood:    </th> <td>-9.6376e+05</td>\n",
       "</tr>\n",
       "<tr>\n",
       "  <th>No. Observations:</th>      <td>375660</td>      <th>  AIC:               </th>  <td>1.928e+06</td> \n",
       "</tr>\n",
       "<tr>\n",
       "  <th>Df Residuals:</th>          <td>375656</td>      <th>  BIC:               </th>  <td>1.928e+06</td> \n",
       "</tr>\n",
       "<tr>\n",
       "  <th>Df Model:</th>              <td>     3</td>      <th>                     </th>      <td> </td>     \n",
       "</tr>\n",
       "<tr>\n",
       "  <th>Covariance Type:</th>      <td>nonrobust</td>    <th>                     </th>      <td> </td>     \n",
       "</tr>\n",
       "</table>\n",
       "<table class=\"simpletable\">\n",
       "<tr>\n",
       "      <td></td>         <th>coef</th>     <th>std err</th>      <th>t</th>      <th>P>|t|</th>  <th>[0.025</th>    <th>0.975]</th>  \n",
       "</tr>\n",
       "<tr>\n",
       "  <th>Intercept</th> <td>    5.0283</td> <td>    0.092</td> <td>   54.599</td> <td> 0.000</td> <td>    4.848</td> <td>    5.209</td>\n",
       "</tr>\n",
       "<tr>\n",
       "  <th>x[T.Q2]</th>   <td>   -3.5898</td> <td>    0.092</td> <td>  -38.904</td> <td> 0.000</td> <td>   -3.771</td> <td>   -3.409</td>\n",
       "</tr>\n",
       "<tr>\n",
       "  <th>x[T.Q3]</th>   <td>   -2.9094</td> <td>    0.093</td> <td>  -31.292</td> <td> 0.000</td> <td>   -3.092</td> <td>   -2.727</td>\n",
       "</tr>\n",
       "<tr>\n",
       "  <th>x[T.Q4]</th>   <td>   -2.9199</td> <td>    0.095</td> <td>  -30.677</td> <td> 0.000</td> <td>   -3.106</td> <td>   -2.733</td>\n",
       "</tr>\n",
       "</table>\n",
       "<table class=\"simpletable\">\n",
       "<tr>\n",
       "  <th>Omnibus:</th>       <td>389909.777</td> <th>  Durbin-Watson:     </th>   <td>   0.419</td>  \n",
       "</tr>\n",
       "<tr>\n",
       "  <th>Prob(Omnibus):</th>   <td> 0.000</td>   <th>  Jarque-Bera (JB):  </th> <td>33198412.090</td>\n",
       "</tr>\n",
       "<tr>\n",
       "  <th>Skew:</th>            <td> 5.149</td>   <th>  Prob(JB):          </th>   <td>    0.00</td>  \n",
       "</tr>\n",
       "<tr>\n",
       "  <th>Kurtosis:</th>        <td>47.888</td>   <th>  Cond. No.          </th>   <td>    46.9</td>  \n",
       "</tr>\n",
       "</table><br/><br/>Notes:<br/>[1] Standard Errors assume that the covariance matrix of the errors is correctly specified."
      ],
      "text/plain": [
       "<class 'statsmodels.iolib.summary.Summary'>\n",
       "\"\"\"\n",
       "                            OLS Regression Results                            \n",
       "==============================================================================\n",
       "Dep. Variable:                      y   R-squared:                       0.011\n",
       "Model:                            OLS   Adj. R-squared:                  0.011\n",
       "Method:                 Least Squares   F-statistic:                     1418.\n",
       "Date:                Tue, 16 Aug 2022   Prob (F-statistic):               0.00\n",
       "Time:                        15:08:50   Log-Likelihood:            -9.6376e+05\n",
       "No. Observations:              375660   AIC:                         1.928e+06\n",
       "Df Residuals:                  375656   BIC:                         1.928e+06\n",
       "Df Model:                           3                                         \n",
       "Covariance Type:            nonrobust                                         \n",
       "==============================================================================\n",
       "                 coef    std err          t      P>|t|      [0.025      0.975]\n",
       "------------------------------------------------------------------------------\n",
       "Intercept      5.0283      0.092     54.599      0.000       4.848       5.209\n",
       "x[T.Q2]       -3.5898      0.092    -38.904      0.000      -3.771      -3.409\n",
       "x[T.Q3]       -2.9094      0.093    -31.292      0.000      -3.092      -2.727\n",
       "x[T.Q4]       -2.9199      0.095    -30.677      0.000      -3.106      -2.733\n",
       "==============================================================================\n",
       "Omnibus:                   389909.777   Durbin-Watson:                   0.419\n",
       "Prob(Omnibus):                  0.000   Jarque-Bera (JB):         33198412.090\n",
       "Skew:                           5.149   Prob(JB):                         0.00\n",
       "Kurtosis:                      47.888   Cond. No.                         46.9\n",
       "==============================================================================\n",
       "\n",
       "Notes:\n",
       "[1] Standard Errors assume that the covariance matrix of the errors is correctly specified.\n",
       "\"\"\""
      ]
     },
     "execution_count": 91,
     "metadata": {},
     "output_type": "execute_result"
    }
   ],
   "source": [
    "# Print the regression table\n",
    "test.summary()"
   ]
  },
  {
   "cell_type": "markdown",
   "id": "e10bc701",
   "metadata": {},
   "source": [
    "**Time of day**"
   ]
  },
  {
   "cell_type": "code",
   "execution_count": 92,
   "id": "5d5788a1",
   "metadata": {},
   "outputs": [],
   "source": [
    "# Define the dependent variable\n",
    "y= outer_london['Total cycles']"
   ]
  },
  {
   "cell_type": "code",
   "execution_count": 93,
   "id": "4a99e203",
   "metadata": {},
   "outputs": [],
   "source": [
    "# Define the indepedent variable\n",
    "x= outer_london['Period']"
   ]
  },
  {
   "cell_type": "code",
   "execution_count": 94,
   "id": "e463af5e",
   "metadata": {},
   "outputs": [],
   "source": [
    "# Create formula and pass through OLS methods\n",
    "f = 'y ~ x'\n",
    "test = ols(f, data= outer_london).fit()"
   ]
  },
  {
   "cell_type": "code",
   "execution_count": 95,
   "id": "b21b85fb",
   "metadata": {},
   "outputs": [
    {
     "data": {
      "text/html": [
       "<table class=\"simpletable\">\n",
       "<caption>OLS Regression Results</caption>\n",
       "<tr>\n",
       "  <th>Dep. Variable:</th>            <td>y</td>        <th>  R-squared:         </th>  <td>   0.033</td>  \n",
       "</tr>\n",
       "<tr>\n",
       "  <th>Model:</th>                   <td>OLS</td>       <th>  Adj. R-squared:    </th>  <td>   0.033</td>  \n",
       "</tr>\n",
       "<tr>\n",
       "  <th>Method:</th>             <td>Least Squares</td>  <th>  F-statistic:       </th>  <td>   3185.</td>  \n",
       "</tr>\n",
       "<tr>\n",
       "  <th>Date:</th>             <td>Tue, 16 Aug 2022</td> <th>  Prob (F-statistic):</th>   <td>  0.00</td>   \n",
       "</tr>\n",
       "<tr>\n",
       "  <th>Time:</th>                 <td>15:08:51</td>     <th>  Log-Likelihood:    </th> <td>-9.5961e+05</td>\n",
       "</tr>\n",
       "<tr>\n",
       "  <th>No. Observations:</th>      <td>375660</td>      <th>  AIC:               </th>  <td>1.919e+06</td> \n",
       "</tr>\n",
       "<tr>\n",
       "  <th>Df Residuals:</th>          <td>375655</td>      <th>  BIC:               </th>  <td>1.919e+06</td> \n",
       "</tr>\n",
       "<tr>\n",
       "  <th>Df Model:</th>              <td>     4</td>      <th>                     </th>      <td> </td>     \n",
       "</tr>\n",
       "<tr>\n",
       "  <th>Covariance Type:</th>      <td>nonrobust</td>    <th>                     </th>      <td> </td>     \n",
       "</tr>\n",
       "</table>\n",
       "<table class=\"simpletable\">\n",
       "<tr>\n",
       "                  <td></td>                    <th>coef</th>     <th>std err</th>      <th>t</th>      <th>P>|t|</th>  <th>[0.025</th>    <th>0.975]</th>  \n",
       "</tr>\n",
       "<tr>\n",
       "  <th>Intercept</th>                        <td>    2.1588</td> <td>    0.012</td> <td>  184.066</td> <td> 0.000</td> <td>    2.136</td> <td>    2.182</td>\n",
       "</tr>\n",
       "<tr>\n",
       "  <th>x[T.Early Morning (06:00-07:00)]</th> <td>   -0.9260</td> <td>    0.023</td> <td>  -39.478</td> <td> 0.000</td> <td>   -0.972</td> <td>   -0.880</td>\n",
       "</tr>\n",
       "<tr>\n",
       "  <th>x[T.Evening (19:00-22:00)]</th>       <td>   -0.9517</td> <td>    0.017</td> <td>  -57.372</td> <td> 0.000</td> <td>   -0.984</td> <td>   -0.919</td>\n",
       "</tr>\n",
       "<tr>\n",
       "  <th>x[T.Inter-peak (10:00-16:00)]</th>    <td>   -1.0460</td> <td>    0.014</td> <td>  -72.821</td> <td> 0.000</td> <td>   -1.074</td> <td>   -1.018</td>\n",
       "</tr>\n",
       "<tr>\n",
       "  <th>x[T.PM peak (16:00-19:00)]</th>       <td>    0.3169</td> <td>    0.017</td> <td>   19.108</td> <td> 0.000</td> <td>    0.284</td> <td>    0.349</td>\n",
       "</tr>\n",
       "</table>\n",
       "<table class=\"simpletable\">\n",
       "<tr>\n",
       "  <th>Omnibus:</th>       <td>386587.041</td> <th>  Durbin-Watson:     </th>   <td>   0.435</td>  \n",
       "</tr>\n",
       "<tr>\n",
       "  <th>Prob(Omnibus):</th>   <td> 0.000</td>   <th>  Jarque-Bera (JB):  </th> <td>32707916.479</td>\n",
       "</tr>\n",
       "<tr>\n",
       "  <th>Skew:</th>            <td> 5.074</td>   <th>  Prob(JB):          </th>   <td>    0.00</td>  \n",
       "</tr>\n",
       "<tr>\n",
       "  <th>Kurtosis:</th>        <td>47.572</td>   <th>  Cond. No.          </th>   <td>    6.47</td>  \n",
       "</tr>\n",
       "</table><br/><br/>Notes:<br/>[1] Standard Errors assume that the covariance matrix of the errors is correctly specified."
      ],
      "text/plain": [
       "<class 'statsmodels.iolib.summary.Summary'>\n",
       "\"\"\"\n",
       "                            OLS Regression Results                            \n",
       "==============================================================================\n",
       "Dep. Variable:                      y   R-squared:                       0.033\n",
       "Model:                            OLS   Adj. R-squared:                  0.033\n",
       "Method:                 Least Squares   F-statistic:                     3185.\n",
       "Date:                Tue, 16 Aug 2022   Prob (F-statistic):               0.00\n",
       "Time:                        15:08:51   Log-Likelihood:            -9.5961e+05\n",
       "No. Observations:              375660   AIC:                         1.919e+06\n",
       "Df Residuals:                  375655   BIC:                         1.919e+06\n",
       "Df Model:                           4                                         \n",
       "Covariance Type:            nonrobust                                         \n",
       "====================================================================================================\n",
       "                                       coef    std err          t      P>|t|      [0.025      0.975]\n",
       "----------------------------------------------------------------------------------------------------\n",
       "Intercept                            2.1588      0.012    184.066      0.000       2.136       2.182\n",
       "x[T.Early Morning (06:00-07:00)]    -0.9260      0.023    -39.478      0.000      -0.972      -0.880\n",
       "x[T.Evening (19:00-22:00)]          -0.9517      0.017    -57.372      0.000      -0.984      -0.919\n",
       "x[T.Inter-peak (10:00-16:00)]       -1.0460      0.014    -72.821      0.000      -1.074      -1.018\n",
       "x[T.PM peak (16:00-19:00)]           0.3169      0.017     19.108      0.000       0.284       0.349\n",
       "==============================================================================\n",
       "Omnibus:                   386587.041   Durbin-Watson:                   0.435\n",
       "Prob(Omnibus):                  0.000   Jarque-Bera (JB):         32707916.479\n",
       "Skew:                           5.074   Prob(JB):                         0.00\n",
       "Kurtosis:                      47.572   Cond. No.                         6.47\n",
       "==============================================================================\n",
       "\n",
       "Notes:\n",
       "[1] Standard Errors assume that the covariance matrix of the errors is correctly specified.\n",
       "\"\"\""
      ]
     },
     "execution_count": 95,
     "metadata": {},
     "output_type": "execute_result"
    }
   ],
   "source": [
    "# Print the regression table\n",
    "test.summary()"
   ]
  },
  {
   "cell_type": "markdown",
   "id": "505229a9",
   "metadata": {},
   "source": [
    "**Weather**"
   ]
  },
  {
   "cell_type": "code",
   "execution_count": 96,
   "id": "83afb365",
   "metadata": {},
   "outputs": [],
   "source": [
    "# Subset data based on top weather conditions\n",
    "outer_london_topweather = outer_london.groupby('Weather').filter(lambda x : len(x) > 1000)"
   ]
  },
  {
   "cell_type": "code",
   "execution_count": 97,
   "id": "c6152df1",
   "metadata": {},
   "outputs": [],
   "source": [
    "# Define the dependent variable\n",
    "y= outer_london_topweather['Total cycles']"
   ]
  },
  {
   "cell_type": "code",
   "execution_count": 98,
   "id": "bbe71afa",
   "metadata": {},
   "outputs": [],
   "source": [
    "# Define the indepedent variable\n",
    "x= outer_london_topweather['Weather']"
   ]
  },
  {
   "cell_type": "code",
   "execution_count": 99,
   "id": "c8c6ac29",
   "metadata": {},
   "outputs": [],
   "source": [
    "# Create formula and pass through OLS methods\n",
    "f = 'y ~ x'\n",
    "test = ols(f, data= outer_london_topweather).fit()"
   ]
  },
  {
   "cell_type": "code",
   "execution_count": 100,
   "id": "0d7368a9",
   "metadata": {},
   "outputs": [
    {
     "data": {
      "text/html": [
       "<table class=\"simpletable\">\n",
       "<caption>OLS Regression Results</caption>\n",
       "<tr>\n",
       "  <th>Dep. Variable:</th>            <td>y</td>        <th>  R-squared:         </th>  <td>   0.002</td>  \n",
       "</tr>\n",
       "<tr>\n",
       "  <th>Model:</th>                   <td>OLS</td>       <th>  Adj. R-squared:    </th>  <td>   0.002</td>  \n",
       "</tr>\n",
       "<tr>\n",
       "  <th>Method:</th>             <td>Least Squares</td>  <th>  F-statistic:       </th>  <td>   204.6</td>  \n",
       "</tr>\n",
       "<tr>\n",
       "  <th>Date:</th>             <td>Tue, 16 Aug 2022</td> <th>  Prob (F-statistic):</th>  <td>1.31e-132</td> \n",
       "</tr>\n",
       "<tr>\n",
       "  <th>Time:</th>                 <td>15:08:51</td>     <th>  Log-Likelihood:    </th> <td>-9.4423e+05</td>\n",
       "</tr>\n",
       "<tr>\n",
       "  <th>No. Observations:</th>      <td>367806</td>      <th>  AIC:               </th>  <td>1.888e+06</td> \n",
       "</tr>\n",
       "<tr>\n",
       "  <th>Df Residuals:</th>          <td>367802</td>      <th>  BIC:               </th>  <td>1.889e+06</td> \n",
       "</tr>\n",
       "<tr>\n",
       "  <th>Df Model:</th>              <td>     3</td>      <th>                     </th>      <td> </td>     \n",
       "</tr>\n",
       "<tr>\n",
       "  <th>Covariance Type:</th>      <td>nonrobust</td>    <th>                     </th>      <td> </td>     \n",
       "</tr>\n",
       "</table>\n",
       "<table class=\"simpletable\">\n",
       "<tr>\n",
       "       <td></td>         <th>coef</th>     <th>std err</th>      <th>t</th>      <th>P>|t|</th>  <th>[0.025</th>    <th>0.975]</th>  \n",
       "</tr>\n",
       "<tr>\n",
       "  <th>Intercept</th>  <td>    1.6328</td> <td>    0.006</td> <td>  294.735</td> <td> 0.000</td> <td>    1.622</td> <td>    1.644</td>\n",
       "</tr>\n",
       "<tr>\n",
       "  <th>x[T.Fine]</th>  <td>   -0.4167</td> <td>    0.081</td> <td>   -5.114</td> <td> 0.000</td> <td>   -0.576</td> <td>   -0.257</td>\n",
       "</tr>\n",
       "<tr>\n",
       "  <th>x[T.Sunny]</th> <td>   -0.2714</td> <td>    0.089</td> <td>   -3.053</td> <td> 0.002</td> <td>   -0.446</td> <td>   -0.097</td>\n",
       "</tr>\n",
       "<tr>\n",
       "  <th>x[T.Wet]</th>   <td>   -0.3995</td> <td>    0.016</td> <td>  -24.220</td> <td> 0.000</td> <td>   -0.432</td> <td>   -0.367</td>\n",
       "</tr>\n",
       "</table>\n",
       "<table class=\"simpletable\">\n",
       "<tr>\n",
       "  <th>Omnibus:</th>       <td>382096.782</td> <th>  Durbin-Watson:     </th>   <td>   0.417</td>  \n",
       "</tr>\n",
       "<tr>\n",
       "  <th>Prob(Omnibus):</th>   <td> 0.000</td>   <th>  Jarque-Bera (JB):  </th> <td>32335538.164</td>\n",
       "</tr>\n",
       "<tr>\n",
       "  <th>Skew:</th>            <td> 5.160</td>   <th>  Prob(JB):          </th>   <td>    0.00</td>  \n",
       "</tr>\n",
       "<tr>\n",
       "  <th>Kurtosis:</th>        <td>47.760</td>   <th>  Cond. No.          </th>   <td>    17.2</td>  \n",
       "</tr>\n",
       "</table><br/><br/>Notes:<br/>[1] Standard Errors assume that the covariance matrix of the errors is correctly specified."
      ],
      "text/plain": [
       "<class 'statsmodels.iolib.summary.Summary'>\n",
       "\"\"\"\n",
       "                            OLS Regression Results                            \n",
       "==============================================================================\n",
       "Dep. Variable:                      y   R-squared:                       0.002\n",
       "Model:                            OLS   Adj. R-squared:                  0.002\n",
       "Method:                 Least Squares   F-statistic:                     204.6\n",
       "Date:                Tue, 16 Aug 2022   Prob (F-statistic):          1.31e-132\n",
       "Time:                        15:08:51   Log-Likelihood:            -9.4423e+05\n",
       "No. Observations:              367806   AIC:                         1.888e+06\n",
       "Df Residuals:                  367802   BIC:                         1.889e+06\n",
       "Df Model:                           3                                         \n",
       "Covariance Type:            nonrobust                                         \n",
       "==============================================================================\n",
       "                 coef    std err          t      P>|t|      [0.025      0.975]\n",
       "------------------------------------------------------------------------------\n",
       "Intercept      1.6328      0.006    294.735      0.000       1.622       1.644\n",
       "x[T.Fine]     -0.4167      0.081     -5.114      0.000      -0.576      -0.257\n",
       "x[T.Sunny]    -0.2714      0.089     -3.053      0.002      -0.446      -0.097\n",
       "x[T.Wet]      -0.3995      0.016    -24.220      0.000      -0.432      -0.367\n",
       "==============================================================================\n",
       "Omnibus:                   382096.782   Durbin-Watson:                   0.417\n",
       "Prob(Omnibus):                  0.000   Jarque-Bera (JB):         32335538.164\n",
       "Skew:                           5.160   Prob(JB):                         0.00\n",
       "Kurtosis:                      47.760   Cond. No.                         17.2\n",
       "==============================================================================\n",
       "\n",
       "Notes:\n",
       "[1] Standard Errors assume that the covariance matrix of the errors is correctly specified.\n",
       "\"\"\""
      ]
     },
     "execution_count": 100,
     "metadata": {},
     "output_type": "execute_result"
    }
   ],
   "source": [
    "# Print the regression table\n",
    "test.summary()"
   ]
  },
  {
   "cell_type": "markdown",
   "id": "60fe7cc7",
   "metadata": {},
   "source": [
    "**Outer London - Male**"
   ]
  },
  {
   "cell_type": "code",
   "execution_count": 101,
   "id": "b7266338",
   "metadata": {},
   "outputs": [],
   "source": [
    "# Define the dependent variable\n",
    "y= outer_london['Total cycles']"
   ]
  },
  {
   "cell_type": "code",
   "execution_count": 102,
   "id": "81e46638",
   "metadata": {},
   "outputs": [],
   "source": [
    "# Define the indepedent variable\n",
    "x= outer_london['Number of male cycles']"
   ]
  },
  {
   "cell_type": "code",
   "execution_count": 103,
   "id": "0b236362",
   "metadata": {},
   "outputs": [],
   "source": [
    "# Create formula and pass through OLS methods\n",
    "f = 'y ~ x'\n",
    "test = ols(f, data= outer_london).fit()"
   ]
  },
  {
   "cell_type": "code",
   "execution_count": 104,
   "id": "390933a6",
   "metadata": {},
   "outputs": [
    {
     "data": {
      "text/html": [
       "<table class=\"simpletable\">\n",
       "<caption>OLS Regression Results</caption>\n",
       "<tr>\n",
       "  <th>Dep. Variable:</th>            <td>y</td>        <th>  R-squared:         </th>  <td>   0.956</td>  \n",
       "</tr>\n",
       "<tr>\n",
       "  <th>Model:</th>                   <td>OLS</td>       <th>  Adj. R-squared:    </th>  <td>   0.956</td>  \n",
       "</tr>\n",
       "<tr>\n",
       "  <th>Method:</th>             <td>Least Squares</td>  <th>  F-statistic:       </th>  <td>8.098e+06</td> \n",
       "</tr>\n",
       "<tr>\n",
       "  <th>Date:</th>             <td>Tue, 16 Aug 2022</td> <th>  Prob (F-statistic):</th>   <td>  0.00</td>   \n",
       "</tr>\n",
       "<tr>\n",
       "  <th>Time:</th>                 <td>15:08:52</td>     <th>  Log-Likelihood:    </th> <td>-3.8060e+05</td>\n",
       "</tr>\n",
       "<tr>\n",
       "  <th>No. Observations:</th>      <td>375660</td>      <th>  AIC:               </th>  <td>7.612e+05</td> \n",
       "</tr>\n",
       "<tr>\n",
       "  <th>Df Residuals:</th>          <td>375658</td>      <th>  BIC:               </th>  <td>7.612e+05</td> \n",
       "</tr>\n",
       "<tr>\n",
       "  <th>Df Model:</th>              <td>     1</td>      <th>                     </th>      <td> </td>     \n",
       "</tr>\n",
       "<tr>\n",
       "  <th>Covariance Type:</th>      <td>nonrobust</td>    <th>                     </th>      <td> </td>     \n",
       "</tr>\n",
       "</table>\n",
       "<table class=\"simpletable\">\n",
       "<tr>\n",
       "      <td></td>         <th>coef</th>     <th>std err</th>      <th>t</th>      <th>P>|t|</th>  <th>[0.025</th>    <th>0.975]</th>  \n",
       "</tr>\n",
       "<tr>\n",
       "  <th>Intercept</th> <td>    0.0602</td> <td>    0.001</td> <td>   49.613</td> <td> 0.000</td> <td>    0.058</td> <td>    0.063</td>\n",
       "</tr>\n",
       "<tr>\n",
       "  <th>x</th>         <td>    1.1455</td> <td>    0.000</td> <td> 2845.640</td> <td> 0.000</td> <td>    1.145</td> <td>    1.146</td>\n",
       "</tr>\n",
       "</table>\n",
       "<table class=\"simpletable\">\n",
       "<tr>\n",
       "  <th>Omnibus:</th>       <td>331245.688</td> <th>  Durbin-Watson:     </th>   <td>   1.370</td>  \n",
       "</tr>\n",
       "<tr>\n",
       "  <th>Prob(Omnibus):</th>   <td> 0.000</td>   <th>  Jarque-Bera (JB):  </th> <td>22237526.246</td>\n",
       "</tr>\n",
       "<tr>\n",
       "  <th>Skew:</th>            <td> 3.965</td>   <th>  Prob(JB):          </th>   <td>    0.00</td>  \n",
       "</tr>\n",
       "<tr>\n",
       "  <th>Kurtosis:</th>        <td>39.848</td>   <th>  Cond. No.          </th>   <td>    3.44</td>  \n",
       "</tr>\n",
       "</table><br/><br/>Notes:<br/>[1] Standard Errors assume that the covariance matrix of the errors is correctly specified."
      ],
      "text/plain": [
       "<class 'statsmodels.iolib.summary.Summary'>\n",
       "\"\"\"\n",
       "                            OLS Regression Results                            \n",
       "==============================================================================\n",
       "Dep. Variable:                      y   R-squared:                       0.956\n",
       "Model:                            OLS   Adj. R-squared:                  0.956\n",
       "Method:                 Least Squares   F-statistic:                 8.098e+06\n",
       "Date:                Tue, 16 Aug 2022   Prob (F-statistic):               0.00\n",
       "Time:                        15:08:52   Log-Likelihood:            -3.8060e+05\n",
       "No. Observations:              375660   AIC:                         7.612e+05\n",
       "Df Residuals:                  375658   BIC:                         7.612e+05\n",
       "Df Model:                           1                                         \n",
       "Covariance Type:            nonrobust                                         \n",
       "==============================================================================\n",
       "                 coef    std err          t      P>|t|      [0.025      0.975]\n",
       "------------------------------------------------------------------------------\n",
       "Intercept      0.0602      0.001     49.613      0.000       0.058       0.063\n",
       "x              1.1455      0.000   2845.640      0.000       1.145       1.146\n",
       "==============================================================================\n",
       "Omnibus:                   331245.688   Durbin-Watson:                   1.370\n",
       "Prob(Omnibus):                  0.000   Jarque-Bera (JB):         22237526.246\n",
       "Skew:                           3.965   Prob(JB):                         0.00\n",
       "Kurtosis:                      39.848   Cond. No.                         3.44\n",
       "==============================================================================\n",
       "\n",
       "Notes:\n",
       "[1] Standard Errors assume that the covariance matrix of the errors is correctly specified.\n",
       "\"\"\""
      ]
     },
     "execution_count": 104,
     "metadata": {},
     "output_type": "execute_result"
    }
   ],
   "source": [
    "# Print the regression table\n",
    "test.summary()"
   ]
  },
  {
   "cell_type": "markdown",
   "id": "c7d80ab1",
   "metadata": {},
   "source": [
    "**Outer London - Female**"
   ]
  },
  {
   "cell_type": "code",
   "execution_count": 105,
   "id": "16991d7e",
   "metadata": {},
   "outputs": [],
   "source": [
    "# Define the dependent variable\n",
    "y= outer_london['Total cycles']"
   ]
  },
  {
   "cell_type": "code",
   "execution_count": 106,
   "id": "fc7c176a",
   "metadata": {},
   "outputs": [],
   "source": [
    "# Define the indepedent variable\n",
    "x= outer_london['Number of female cycles']"
   ]
  },
  {
   "cell_type": "code",
   "execution_count": 107,
   "id": "d220d647",
   "metadata": {},
   "outputs": [],
   "source": [
    "# Create formula and pass through OLS methods\n",
    "f = 'y ~ x'\n",
    "test = ols(f, data= outer_london).fit()"
   ]
  },
  {
   "cell_type": "code",
   "execution_count": 108,
   "id": "4fd1d2dd",
   "metadata": {},
   "outputs": [
    {
     "data": {
      "text/html": [
       "<table class=\"simpletable\">\n",
       "<caption>OLS Regression Results</caption>\n",
       "<tr>\n",
       "  <th>Dep. Variable:</th>            <td>y</td>        <th>  R-squared:         </th>  <td>   0.457</td>  \n",
       "</tr>\n",
       "<tr>\n",
       "  <th>Model:</th>                   <td>OLS</td>       <th>  Adj. R-squared:    </th>  <td>   0.457</td>  \n",
       "</tr>\n",
       "<tr>\n",
       "  <th>Method:</th>             <td>Least Squares</td>  <th>  F-statistic:       </th>  <td>3.156e+05</td> \n",
       "</tr>\n",
       "<tr>\n",
       "  <th>Date:</th>             <td>Tue, 16 Aug 2022</td> <th>  Prob (F-statistic):</th>   <td>  0.00</td>   \n",
       "</tr>\n",
       "<tr>\n",
       "  <th>Time:</th>                 <td>15:08:52</td>     <th>  Log-Likelihood:    </th> <td>-8.5133e+05</td>\n",
       "</tr>\n",
       "<tr>\n",
       "  <th>No. Observations:</th>      <td>375660</td>      <th>  AIC:               </th>  <td>1.703e+06</td> \n",
       "</tr>\n",
       "<tr>\n",
       "  <th>Df Residuals:</th>          <td>375658</td>      <th>  BIC:               </th>  <td>1.703e+06</td> \n",
       "</tr>\n",
       "<tr>\n",
       "  <th>Df Model:</th>              <td>     1</td>      <th>                     </th>      <td> </td>     \n",
       "</tr>\n",
       "<tr>\n",
       "  <th>Covariance Type:</th>      <td>nonrobust</td>    <th>                     </th>      <td> </td>     \n",
       "</tr>\n",
       "</table>\n",
       "<table class=\"simpletable\">\n",
       "<tr>\n",
       "      <td></td>         <th>coef</th>     <th>std err</th>      <th>t</th>      <th>P>|t|</th>  <th>[0.025</th>    <th>0.975]</th>  \n",
       "</tr>\n",
       "<tr>\n",
       "  <th>Intercept</th> <td>    0.9049</td> <td>    0.004</td> <td>  226.389</td> <td> 0.000</td> <td>    0.897</td> <td>    0.913</td>\n",
       "</tr>\n",
       "<tr>\n",
       "  <th>x</th>         <td>    2.8455</td> <td>    0.005</td> <td>  561.795</td> <td> 0.000</td> <td>    2.836</td> <td>    2.855</td>\n",
       "</tr>\n",
       "</table>\n",
       "<table class=\"simpletable\">\n",
       "<tr>\n",
       "  <th>Omnibus:</th>       <td>341848.118</td> <th>  Durbin-Watson:     </th>   <td>   0.845</td>  \n",
       "</tr>\n",
       "<tr>\n",
       "  <th>Prob(Omnibus):</th>   <td> 0.000</td>   <th>  Jarque-Bera (JB):  </th> <td>22179936.912</td>\n",
       "</tr>\n",
       "<tr>\n",
       "  <th>Skew:</th>            <td> 4.197</td>   <th>  Prob(JB):          </th>   <td>    0.00</td>  \n",
       "</tr>\n",
       "<tr>\n",
       "  <th>Kurtosis:</th>        <td>39.695</td>   <th>  Cond. No.          </th>   <td>    1.49</td>  \n",
       "</tr>\n",
       "</table><br/><br/>Notes:<br/>[1] Standard Errors assume that the covariance matrix of the errors is correctly specified."
      ],
      "text/plain": [
       "<class 'statsmodels.iolib.summary.Summary'>\n",
       "\"\"\"\n",
       "                            OLS Regression Results                            \n",
       "==============================================================================\n",
       "Dep. Variable:                      y   R-squared:                       0.457\n",
       "Model:                            OLS   Adj. R-squared:                  0.457\n",
       "Method:                 Least Squares   F-statistic:                 3.156e+05\n",
       "Date:                Tue, 16 Aug 2022   Prob (F-statistic):               0.00\n",
       "Time:                        15:08:52   Log-Likelihood:            -8.5133e+05\n",
       "No. Observations:              375660   AIC:                         1.703e+06\n",
       "Df Residuals:                  375658   BIC:                         1.703e+06\n",
       "Df Model:                           1                                         \n",
       "Covariance Type:            nonrobust                                         \n",
       "==============================================================================\n",
       "                 coef    std err          t      P>|t|      [0.025      0.975]\n",
       "------------------------------------------------------------------------------\n",
       "Intercept      0.9049      0.004    226.389      0.000       0.897       0.913\n",
       "x              2.8455      0.005    561.795      0.000       2.836       2.855\n",
       "==============================================================================\n",
       "Omnibus:                   341848.118   Durbin-Watson:                   0.845\n",
       "Prob(Omnibus):                  0.000   Jarque-Bera (JB):         22179936.912\n",
       "Skew:                           4.197   Prob(JB):                         0.00\n",
       "Kurtosis:                      39.695   Cond. No.                         1.49\n",
       "==============================================================================\n",
       "\n",
       "Notes:\n",
       "[1] Standard Errors assume that the covariance matrix of the errors is correctly specified.\n",
       "\"\"\""
      ]
     },
     "execution_count": 108,
     "metadata": {},
     "output_type": "execute_result"
    }
   ],
   "source": [
    "# Print the regression table\n",
    "test.summary()"
   ]
  },
  {
   "cell_type": "code",
   "execution_count": null,
   "id": "ee5f9415",
   "metadata": {},
   "outputs": [],
   "source": []
  }
 ],
 "metadata": {
  "kernelspec": {
   "display_name": "Python 3 (ipykernel)",
   "language": "python",
   "name": "python3"
  },
  "language_info": {
   "codemirror_mode": {
    "name": "ipython",
    "version": 3
   },
   "file_extension": ".py",
   "mimetype": "text/x-python",
   "name": "python",
   "nbconvert_exporter": "python",
   "pygments_lexer": "ipython3",
   "version": "3.9.12"
  }
 },
 "nbformat": 4,
 "nbformat_minor": 5
}
